{
  "nbformat": 4,
  "nbformat_minor": 0,
  "metadata": {
    "colab": {
      "name": "main_Single_Trial_Classification_Accuracy_all_subjectsipynb",
      "provenance": [],
      "collapsed_sections": [],
      "include_colab_link": true
    },
    "kernelspec": {
      "name": "python3",
      "display_name": "Python 3"
    },
    "accelerator": "GPU"
  },
  "cells": [
    {
      "cell_type": "markdown",
      "metadata": {
        "id": "view-in-github",
        "colab_type": "text"
      },
      "source": [
        "<a href=\"https://colab.research.google.com/github/sagihaider/EEG_Deep/blob/master/main_Single_Trial_Classification_Accuracy_all_subjectsipynb.ipynb\" target=\"_parent\"><img src=\"https://colab.research.google.com/assets/colab-badge.svg\" alt=\"Open In Colab\"/></a>"
      ]
    },
    {
      "cell_type": "code",
      "metadata": {
        "id": "X110PE9MjrlE",
        "colab_type": "code",
        "outputId": "ce13526a-a681-476d-eb75-c05e3154fd5c",
        "colab": {
          "base_uri": "https://localhost:8080/",
          "height": 136
        }
      },
      "source": [
        "!git clone https://github.com/sagihaider/EEG_Deep.git"
      ],
      "execution_count": 0,
      "outputs": [
        {
          "output_type": "stream",
          "text": [
            "Cloning into 'EEG_Deep'...\n",
            "remote: Enumerating objects: 3, done.\u001b[K\n",
            "remote: Counting objects: 100% (3/3), done.\u001b[K\n",
            "remote: Compressing objects: 100% (3/3), done.\u001b[K\n",
            "remote: Total 56 (delta 0), reused 0 (delta 0), pack-reused 53\n",
            "Unpacking objects: 100% (56/56), done.\n",
            "Checking out files: 100% (24/24), done.\n"
          ],
          "name": "stdout"
        }
      ]
    },
    {
      "cell_type": "code",
      "metadata": {
        "id": "ioLzMoiS60Qf",
        "colab_type": "code",
        "outputId": "5a75ce87-8742-4a6d-f800-5e0d646917a5",
        "colab": {
          "base_uri": "https://localhost:8080/",
          "height": 80
        }
      },
      "source": [
        "import scipy.io as spio\n",
        "import numpy as np\n",
        "from importlib.machinery import SourceFileLoader\n",
        "\n",
        "# EEGNet-specific imports\n",
        "from EEG_Deep.EEGModels import EEGNet, ShallowConvNet, DeepConvNet\n",
        "from tensorflow.keras import utils as np_utils\n",
        "from tensorflow.keras.callbacks import ModelCheckpoint\n",
        "from tensorflow.keras import backend as K\n",
        "K.set_image_data_format('channels_first')\n",
        "\n",
        "from sklearn.pipeline import make_pipeline\n",
        "from sklearn.linear_model import LogisticRegression\n",
        "\n",
        "# tools for plotting confusion matrices\n",
        "from matplotlib import pyplot as plt"
      ],
      "execution_count": 0,
      "outputs": [
        {
          "output_type": "display_data",
          "data": {
            "text/html": [
              "<p style=\"color: red;\">\n",
              "The default version of TensorFlow in Colab will soon switch to TensorFlow 2.x.<br>\n",
              "We recommend you <a href=\"https://www.tensorflow.org/guide/migrate\" target=\"_blank\">upgrade</a> now \n",
              "or ensure your notebook will continue to use TensorFlow 1.x via the <code>%tensorflow_version 1.x</code> magic:\n",
              "<a href=\"https://colab.research.google.com/notebooks/tensorflow_version.ipynb\" target=\"_blank\">more info</a>.</p>\n"
            ],
            "text/plain": [
              "<IPython.core.display.HTML object>"
            ]
          },
          "metadata": {
            "tags": []
          }
        }
      ]
    },
    {
      "cell_type": "code",
      "metadata": {
        "id": "ZjtnE_6RSpum",
        "colab_type": "code",
        "outputId": "5c4cb9ad-4efd-4afb-ec2e-98f40243a340",
        "colab": {
          "base_uri": "https://localhost:8080/",
          "height": 34
        }
      },
      "source": [
        "x= 1         \n",
        "fName = 'EEG_Deep/Data2A/Data_A0' + str(x) + 'T.mat'  # Load Data\n",
        "print(fName)\n",
        "mat = spio.loadmat(fName)\n",
        "X_tr = mat['cleanRawEEGData']\n",
        "y_tr = mat['cleanClassLabels']"
      ],
      "execution_count": 0,
      "outputs": [
        {
          "output_type": "stream",
          "text": [
            "EEG_Deep/Data2A/Data_A01T.mat\n"
          ],
          "name": "stdout"
        }
      ]
    },
    {
      "cell_type": "code",
      "metadata": {
        "id": "3c11RQCoS80S",
        "colab_type": "code",
        "outputId": "7266b940-bd63-4589-b1cb-0eb0edef3ceb",
        "colab": {
          "base_uri": "https://localhost:8080/",
          "height": 51
        }
      },
      "source": [
        "print(np.shape(X_tr))\n",
        "print(np.shape(y_tr))"
      ],
      "execution_count": 0,
      "outputs": [
        {
          "output_type": "stream",
          "text": [
            "(288, 22, 1875)\n",
            "(288, 1)\n"
          ],
          "name": "stdout"
        }
      ]
    },
    {
      "cell_type": "code",
      "metadata": {
        "id": "tgWnQSY5T4op",
        "colab_type": "code",
        "outputId": "445bac61-c88f-4245-9aa7-4328e71235b1",
        "colab": {
          "base_uri": "https://localhost:8080/",
          "height": 85
        }
      },
      "source": [
        "\n",
        "# take 50/25/25 percent of the data to train/validate/test\n",
        "X_train      = X_tr[0:240,:,500:1250]\n",
        "Y_train      = y_tr[0:240]\n",
        "#X_validate   = X[151:200,:,500:1250]\n",
        "#Y_validate   = y[151:200]\n",
        "X_val       = X_tr[241:,:,500:1250]\n",
        "Y_val       = y_tr[241:]\n",
        "\n",
        "print(np.shape(X_train))\n",
        "print(np.shape(Y_train))\n",
        "# print(np.shape(X_validate))\n",
        "# print(np.shape(Y_validate))\n",
        "print(np.shape(X_val))\n",
        "print(np.shape(Y_val))"
      ],
      "execution_count": 0,
      "outputs": [
        {
          "output_type": "stream",
          "text": [
            "(240, 22, 750)\n",
            "(240, 1)\n",
            "(47, 22, 750)\n",
            "(47, 1)\n"
          ],
          "name": "stdout"
        }
      ]
    },
    {
      "cell_type": "code",
      "metadata": {
        "id": "bfC8z4I-UnF6",
        "colab_type": "code",
        "colab": {}
      },
      "source": [
        "\n",
        "# convert labels to one-hot encodings.\n",
        "Y_train      = np_utils.to_categorical(Y_train-1)\n",
        "# Y_validate   = np_utils.to_categorical(Y_validate-1)\n",
        "Y_val       = np_utils.to_categorical(Y_val-1)"
      ],
      "execution_count": 0,
      "outputs": []
    },
    {
      "cell_type": "code",
      "metadata": {
        "id": "NqmsOU1BXOZJ",
        "colab_type": "code",
        "outputId": "d92bf080-aa77-41b7-c08e-fb3a118de882",
        "colab": {
          "base_uri": "https://localhost:8080/",
          "height": 68
        }
      },
      "source": [
        "kernels, chans, samples = 1, 22, 750\n",
        "# convert data to NCHW (trials, kernels, channels, samples) format. Data \n",
        "# contains 22 channels and 500 time-points. Set the number of kernels to 1.\n",
        "X_train      = X_train.reshape(X_train.shape[0], kernels, chans, samples)\n",
        "X_val       = X_val.reshape(X_val.shape[0], kernels, chans, samples)\n",
        "   \n",
        "print('X_train shape:', X_train.shape)\n",
        "print(X_train.shape[0], 'train samples')\n",
        "print(X_val.shape[0], 'val samples')"
      ],
      "execution_count": 0,
      "outputs": [
        {
          "output_type": "stream",
          "text": [
            "X_train shape: (240, 1, 22, 750)\n",
            "240 train samples\n",
            "47 val samples\n"
          ],
          "name": "stdout"
        }
      ]
    },
    {
      "cell_type": "code",
      "metadata": {
        "id": "jvVfScxP1juN",
        "colab_type": "code",
        "outputId": "cde697cc-b5e8-49ec-fcc7-4110e85d67ae",
        "colab": {
          "base_uri": "https://localhost:8080/",
          "height": 34
        }
      },
      "source": [
        "# Load test data\n",
        "x= 1         \n",
        "fName = 'EEG_Deep/Data2A/Data_A0' + str(x) + 'E.mat'  # Load Data\n",
        "print(fName)\n",
        "mat = spio.loadmat(fName)\n",
        "X_ts = mat['cleanRawEEGData']\n",
        "y_ts = mat['cleanClassLabels']"
      ],
      "execution_count": 0,
      "outputs": [
        {
          "output_type": "stream",
          "text": [
            "EEG_Deep/Data2A/Data_A01E.mat\n"
          ],
          "name": "stdout"
        }
      ]
    },
    {
      "cell_type": "code",
      "metadata": {
        "id": "XdP4eTcM1wN3",
        "colab_type": "code",
        "outputId": "fb93c32d-f8f8-4e02-a4ac-e90886ad805e",
        "colab": {
          "base_uri": "https://localhost:8080/",
          "height": 85
        }
      },
      "source": [
        "print(np.shape(X_ts))\n",
        "print(np.shape(y_ts))\n",
        "\n",
        "# take 50/25/25 percent of the data to train/validate/test\n",
        "X_test      = X_ts[:,:,500:1250]\n",
        "Y_test      = y_ts[:]\n",
        "print(np.shape(X_test))\n",
        "print(np.shape(Y_test))"
      ],
      "execution_count": 0,
      "outputs": [
        {
          "output_type": "stream",
          "text": [
            "(288, 22, 1875)\n",
            "(288, 1)\n",
            "(288, 22, 750)\n",
            "(288, 1)\n"
          ],
          "name": "stdout"
        }
      ]
    },
    {
      "cell_type": "code",
      "metadata": {
        "id": "9vVDMLZp2uX6",
        "colab_type": "code",
        "outputId": "83df3448-c8d2-46f7-9dac-676e84903d57",
        "colab": {
          "base_uri": "https://localhost:8080/",
          "height": 51
        }
      },
      "source": [
        "\n",
        "#convert labels to one-hot encodings.\n",
        "Y_test      = np_utils.to_categorical(Y_test-1)\n",
        "\n",
        "kernels, chans, samples = 1, 22, 750\n",
        "# convert data to NCHW (trials, kernels, channels, samples) format. Data \n",
        "# contains 22 channels and 500 time-points. Set the number of kernels to 1.\n",
        "X_test      = X_test.reshape(X_test.shape[0], kernels, chans, samples)\n",
        "\n",
        "   \n",
        "print('X_train shape:', X_test.shape)\n",
        "print(X_test.shape[0], 'train samples')\n"
      ],
      "execution_count": 0,
      "outputs": [
        {
          "output_type": "stream",
          "text": [
            "X_train shape: (288, 1, 22, 750)\n",
            "288 train samples\n"
          ],
          "name": "stdout"
        }
      ]
    },
    {
      "cell_type": "code",
      "metadata": {
        "id": "rUlJdZk_X1OY",
        "colab_type": "code",
        "outputId": "38cf5a74-48e8-4408-fa1c-7fb34f4d4955",
        "colab": {
          "base_uri": "https://localhost:8080/",
          "height": 88
        }
      },
      "source": [
        "# configure the EEGNet-8,2,16 model with kernel length of 32 samples (other \n",
        "# model configurations may do better, but this is a good starting point)\n",
        "model = EEGNet(nb_classes = 4, Chans = 22, Samples = 750, \n",
        "             dropoutRate = 0.5, kernLength = 25, F1 = 8, \n",
        "             D = 2, F2 = 16, norm_rate = 0.25, dropoutType = 'Dropout')\n",
        "\n",
        "# compile the model and set the optimizers\n",
        "model.compile(loss='categorical_crossentropy', optimizer='adam', \n",
        "              metrics = ['accuracy'])\n",
        "\n",
        "# count number of parameters in the model\n",
        "numParams    = model.count_params() \n",
        "\n",
        "# set a valid path for your system to record model checkpoints\n",
        "checkpointer = ModelCheckpoint(filepath='/tmp/checkpoint.h5', verbose=1,\n",
        "                               save_best_only=True)"
      ],
      "execution_count": 0,
      "outputs": [
        {
          "output_type": "stream",
          "text": [
            "WARNING:tensorflow:From /usr/local/lib/python3.6/dist-packages/tensorflow_core/python/ops/resource_variable_ops.py:1630: calling BaseResourceVariable.__init__ (from tensorflow.python.ops.resource_variable_ops) with constraint is deprecated and will be removed in a future version.\n",
            "Instructions for updating:\n",
            "If using Keras pass *_constraint arguments to layers.\n"
          ],
          "name": "stdout"
        }
      ]
    },
    {
      "cell_type": "code",
      "metadata": {
        "id": "CwvCZhYUfIx9",
        "colab_type": "code",
        "outputId": "55accb34-c3a8-4390-c718-b6d10e501513",
        "colab": {
          "base_uri": "https://localhost:8080/",
          "height": 1000
        }
      },
      "source": [
        "# the syntax is {class_1:weight_1, class_2:weight_2,...}. Here just setting\n",
        "# the weights all to be 1\n",
        "class_weights = {0:1, 1:1, 2:1, 3:1}\n",
        "\n",
        "################################################################################\n",
        "# fit the model. Due to very small sample sizes this can get\n",
        "# pretty noisy run-to-run, but most runs should be comparable to xDAWN + \n",
        "# Riemannian geometry classification (below)\n",
        "################################################################################\n",
        "history = model.fit(X_train, Y_train, batch_size = 16, epochs = 100, \n",
        "                        verbose = 2, validation_data=(X_val, Y_val),\n",
        "                        callbacks=[checkpointer], class_weight = class_weights)"
      ],
      "execution_count": 0,
      "outputs": [
        {
          "output_type": "stream",
          "text": [
            "Train on 240 samples, validate on 47 samples\n",
            "Epoch 1/100\n",
            "\n",
            "Epoch 00001: val_loss improved from inf to 1.37567, saving model to /tmp/checkpoint.h5\n",
            "240/240 - 5s - loss: 1.4322 - acc: 0.2375 - val_loss: 1.3757 - val_acc: 0.3404\n",
            "Epoch 2/100\n",
            "\n",
            "Epoch 00002: val_loss improved from 1.37567 to 1.36957, saving model to /tmp/checkpoint.h5\n",
            "240/240 - 0s - loss: 1.3504 - acc: 0.3208 - val_loss: 1.3696 - val_acc: 0.3830\n",
            "Epoch 3/100\n",
            "\n",
            "Epoch 00003: val_loss improved from 1.36957 to 1.35374, saving model to /tmp/checkpoint.h5\n",
            "240/240 - 0s - loss: 1.2907 - acc: 0.4750 - val_loss: 1.3537 - val_acc: 0.4468\n",
            "Epoch 4/100\n",
            "\n",
            "Epoch 00004: val_loss improved from 1.35374 to 1.34386, saving model to /tmp/checkpoint.h5\n",
            "240/240 - 0s - loss: 1.2535 - acc: 0.4708 - val_loss: 1.3439 - val_acc: 0.4043\n",
            "Epoch 5/100\n",
            "\n",
            "Epoch 00005: val_loss improved from 1.34386 to 1.33690, saving model to /tmp/checkpoint.h5\n",
            "240/240 - 0s - loss: 1.2103 - acc: 0.4958 - val_loss: 1.3369 - val_acc: 0.3830\n",
            "Epoch 6/100\n",
            "\n",
            "Epoch 00006: val_loss improved from 1.33690 to 1.31874, saving model to /tmp/checkpoint.h5\n",
            "240/240 - 0s - loss: 1.1797 - acc: 0.5333 - val_loss: 1.3187 - val_acc: 0.3617\n",
            "Epoch 7/100\n",
            "\n",
            "Epoch 00007: val_loss improved from 1.31874 to 1.31318, saving model to /tmp/checkpoint.h5\n",
            "240/240 - 0s - loss: 1.1598 - acc: 0.5167 - val_loss: 1.3132 - val_acc: 0.3617\n",
            "Epoch 8/100\n",
            "\n",
            "Epoch 00008: val_loss improved from 1.31318 to 1.30840, saving model to /tmp/checkpoint.h5\n",
            "240/240 - 0s - loss: 1.1314 - acc: 0.5417 - val_loss: 1.3084 - val_acc: 0.3830\n",
            "Epoch 9/100\n",
            "\n",
            "Epoch 00009: val_loss improved from 1.30840 to 1.29177, saving model to /tmp/checkpoint.h5\n",
            "240/240 - 0s - loss: 1.1107 - acc: 0.5417 - val_loss: 1.2918 - val_acc: 0.3617\n",
            "Epoch 10/100\n",
            "\n",
            "Epoch 00010: val_loss improved from 1.29177 to 1.28187, saving model to /tmp/checkpoint.h5\n",
            "240/240 - 0s - loss: 1.0812 - acc: 0.6208 - val_loss: 1.2819 - val_acc: 0.3830\n",
            "Epoch 11/100\n",
            "\n",
            "Epoch 00011: val_loss improved from 1.28187 to 1.26865, saving model to /tmp/checkpoint.h5\n",
            "240/240 - 0s - loss: 1.0522 - acc: 0.6542 - val_loss: 1.2686 - val_acc: 0.4255\n",
            "Epoch 12/100\n",
            "\n",
            "Epoch 00012: val_loss improved from 1.26865 to 1.25139, saving model to /tmp/checkpoint.h5\n",
            "240/240 - 0s - loss: 1.0160 - acc: 0.6292 - val_loss: 1.2514 - val_acc: 0.4681\n",
            "Epoch 13/100\n",
            "\n",
            "Epoch 00013: val_loss improved from 1.25139 to 1.22193, saving model to /tmp/checkpoint.h5\n",
            "240/240 - 0s - loss: 1.0251 - acc: 0.6500 - val_loss: 1.2219 - val_acc: 0.5106\n",
            "Epoch 14/100\n",
            "\n",
            "Epoch 00014: val_loss improved from 1.22193 to 1.21616, saving model to /tmp/checkpoint.h5\n",
            "240/240 - 0s - loss: 0.9784 - acc: 0.6750 - val_loss: 1.2162 - val_acc: 0.5106\n",
            "Epoch 15/100\n",
            "\n",
            "Epoch 00015: val_loss improved from 1.21616 to 1.21246, saving model to /tmp/checkpoint.h5\n",
            "240/240 - 0s - loss: 0.9961 - acc: 0.7000 - val_loss: 1.2125 - val_acc: 0.4681\n",
            "Epoch 16/100\n",
            "\n",
            "Epoch 00016: val_loss improved from 1.21246 to 1.19091, saving model to /tmp/checkpoint.h5\n",
            "240/240 - 0s - loss: 0.9615 - acc: 0.6792 - val_loss: 1.1909 - val_acc: 0.4894\n",
            "Epoch 17/100\n",
            "\n",
            "Epoch 00017: val_loss improved from 1.19091 to 1.18805, saving model to /tmp/checkpoint.h5\n",
            "240/240 - 0s - loss: 0.9536 - acc: 0.6833 - val_loss: 1.1881 - val_acc: 0.5319\n",
            "Epoch 18/100\n",
            "\n",
            "Epoch 00018: val_loss improved from 1.18805 to 1.17791, saving model to /tmp/checkpoint.h5\n",
            "240/240 - 0s - loss: 0.9083 - acc: 0.7542 - val_loss: 1.1779 - val_acc: 0.4468\n",
            "Epoch 19/100\n",
            "\n",
            "Epoch 00019: val_loss improved from 1.17791 to 1.15547, saving model to /tmp/checkpoint.h5\n",
            "240/240 - 0s - loss: 0.9242 - acc: 0.6792 - val_loss: 1.1555 - val_acc: 0.5319\n",
            "Epoch 20/100\n",
            "\n",
            "Epoch 00020: val_loss improved from 1.15547 to 1.14322, saving model to /tmp/checkpoint.h5\n",
            "240/240 - 0s - loss: 0.9317 - acc: 0.7042 - val_loss: 1.1432 - val_acc: 0.4681\n",
            "Epoch 21/100\n",
            "\n",
            "Epoch 00021: val_loss did not improve from 1.14322\n",
            "240/240 - 0s - loss: 0.9235 - acc: 0.7083 - val_loss: 1.1600 - val_acc: 0.5532\n",
            "Epoch 22/100\n",
            "\n",
            "Epoch 00022: val_loss improved from 1.14322 to 1.11550, saving model to /tmp/checkpoint.h5\n",
            "240/240 - 0s - loss: 0.8958 - acc: 0.7125 - val_loss: 1.1155 - val_acc: 0.5319\n",
            "Epoch 23/100\n",
            "\n",
            "Epoch 00023: val_loss did not improve from 1.11550\n",
            "240/240 - 0s - loss: 0.8930 - acc: 0.7125 - val_loss: 1.1317 - val_acc: 0.5106\n",
            "Epoch 24/100\n",
            "\n",
            "Epoch 00024: val_loss improved from 1.11550 to 1.10503, saving model to /tmp/checkpoint.h5\n",
            "240/240 - 0s - loss: 0.8946 - acc: 0.6958 - val_loss: 1.1050 - val_acc: 0.5319\n",
            "Epoch 25/100\n",
            "\n",
            "Epoch 00025: val_loss did not improve from 1.10503\n",
            "240/240 - 0s - loss: 0.8799 - acc: 0.7375 - val_loss: 1.1057 - val_acc: 0.5532\n",
            "Epoch 26/100\n",
            "\n",
            "Epoch 00026: val_loss improved from 1.10503 to 1.08799, saving model to /tmp/checkpoint.h5\n",
            "240/240 - 0s - loss: 0.8435 - acc: 0.7333 - val_loss: 1.0880 - val_acc: 0.5745\n",
            "Epoch 27/100\n",
            "\n",
            "Epoch 00027: val_loss improved from 1.08799 to 1.06803, saving model to /tmp/checkpoint.h5\n",
            "240/240 - 0s - loss: 0.8288 - acc: 0.7833 - val_loss: 1.0680 - val_acc: 0.6170\n",
            "Epoch 28/100\n",
            "\n",
            "Epoch 00028: val_loss improved from 1.06803 to 1.04929, saving model to /tmp/checkpoint.h5\n",
            "240/240 - 0s - loss: 0.8515 - acc: 0.7500 - val_loss: 1.0493 - val_acc: 0.6170\n",
            "Epoch 29/100\n",
            "\n",
            "Epoch 00029: val_loss improved from 1.04929 to 1.04804, saving model to /tmp/checkpoint.h5\n",
            "240/240 - 0s - loss: 0.8231 - acc: 0.7667 - val_loss: 1.0480 - val_acc: 0.5532\n",
            "Epoch 30/100\n",
            "\n",
            "Epoch 00030: val_loss improved from 1.04804 to 1.02144, saving model to /tmp/checkpoint.h5\n",
            "240/240 - 0s - loss: 0.8108 - acc: 0.7500 - val_loss: 1.0214 - val_acc: 0.5319\n",
            "Epoch 31/100\n",
            "\n",
            "Epoch 00031: val_loss improved from 1.02144 to 0.96055, saving model to /tmp/checkpoint.h5\n",
            "240/240 - 0s - loss: 0.7833 - acc: 0.8125 - val_loss: 0.9606 - val_acc: 0.6383\n",
            "Epoch 32/100\n",
            "\n",
            "Epoch 00032: val_loss improved from 0.96055 to 0.92860, saving model to /tmp/checkpoint.h5\n",
            "240/240 - 0s - loss: 0.7402 - acc: 0.7833 - val_loss: 0.9286 - val_acc: 0.6383\n",
            "Epoch 33/100\n",
            "\n",
            "Epoch 00033: val_loss improved from 0.92860 to 0.89491, saving model to /tmp/checkpoint.h5\n",
            "240/240 - 0s - loss: 0.7139 - acc: 0.8250 - val_loss: 0.8949 - val_acc: 0.6596\n",
            "Epoch 34/100\n",
            "\n",
            "Epoch 00034: val_loss improved from 0.89491 to 0.87116, saving model to /tmp/checkpoint.h5\n",
            "240/240 - 0s - loss: 0.6772 - acc: 0.8125 - val_loss: 0.8712 - val_acc: 0.6596\n",
            "Epoch 35/100\n",
            "\n",
            "Epoch 00035: val_loss improved from 0.87116 to 0.84791, saving model to /tmp/checkpoint.h5\n",
            "240/240 - 0s - loss: 0.7360 - acc: 0.7667 - val_loss: 0.8479 - val_acc: 0.7021\n",
            "Epoch 36/100\n",
            "\n",
            "Epoch 00036: val_loss did not improve from 0.84791\n",
            "240/240 - 0s - loss: 0.6590 - acc: 0.8292 - val_loss: 0.8605 - val_acc: 0.6170\n",
            "Epoch 37/100\n",
            "\n",
            "Epoch 00037: val_loss improved from 0.84791 to 0.80658, saving model to /tmp/checkpoint.h5\n",
            "240/240 - 0s - loss: 0.6522 - acc: 0.8292 - val_loss: 0.8066 - val_acc: 0.6383\n",
            "Epoch 38/100\n",
            "\n",
            "Epoch 00038: val_loss did not improve from 0.80658\n",
            "240/240 - 0s - loss: 0.6334 - acc: 0.8125 - val_loss: 0.8134 - val_acc: 0.5957\n",
            "Epoch 39/100\n",
            "\n",
            "Epoch 00039: val_loss improved from 0.80658 to 0.78915, saving model to /tmp/checkpoint.h5\n",
            "240/240 - 0s - loss: 0.6545 - acc: 0.8208 - val_loss: 0.7892 - val_acc: 0.5957\n",
            "Epoch 40/100\n",
            "\n",
            "Epoch 00040: val_loss did not improve from 0.78915\n",
            "240/240 - 0s - loss: 0.6370 - acc: 0.8250 - val_loss: 0.8068 - val_acc: 0.5957\n",
            "Epoch 41/100\n",
            "\n",
            "Epoch 00041: val_loss improved from 0.78915 to 0.76272, saving model to /tmp/checkpoint.h5\n",
            "240/240 - 0s - loss: 0.6199 - acc: 0.8250 - val_loss: 0.7627 - val_acc: 0.6596\n",
            "Epoch 42/100\n",
            "\n",
            "Epoch 00042: val_loss improved from 0.76272 to 0.75646, saving model to /tmp/checkpoint.h5\n",
            "240/240 - 0s - loss: 0.6369 - acc: 0.8000 - val_loss: 0.7565 - val_acc: 0.7234\n",
            "Epoch 43/100\n",
            "\n",
            "Epoch 00043: val_loss did not improve from 0.75646\n",
            "240/240 - 0s - loss: 0.6220 - acc: 0.8250 - val_loss: 0.7720 - val_acc: 0.6596\n",
            "Epoch 44/100\n",
            "\n",
            "Epoch 00044: val_loss did not improve from 0.75646\n",
            "240/240 - 0s - loss: 0.6351 - acc: 0.7833 - val_loss: 0.7571 - val_acc: 0.7234\n",
            "Epoch 45/100\n",
            "\n",
            "Epoch 00045: val_loss did not improve from 0.75646\n",
            "240/240 - 0s - loss: 0.5909 - acc: 0.8292 - val_loss: 0.8143 - val_acc: 0.6383\n",
            "Epoch 46/100\n",
            "\n",
            "Epoch 00046: val_loss did not improve from 0.75646\n",
            "240/240 - 0s - loss: 0.6412 - acc: 0.7958 - val_loss: 0.7695 - val_acc: 0.6383\n",
            "Epoch 47/100\n",
            "\n",
            "Epoch 00047: val_loss improved from 0.75646 to 0.73297, saving model to /tmp/checkpoint.h5\n",
            "240/240 - 0s - loss: 0.5974 - acc: 0.8250 - val_loss: 0.7330 - val_acc: 0.7234\n",
            "Epoch 48/100\n",
            "\n",
            "Epoch 00048: val_loss did not improve from 0.73297\n",
            "240/240 - 0s - loss: 0.5845 - acc: 0.8375 - val_loss: 0.7989 - val_acc: 0.5957\n",
            "Epoch 49/100\n",
            "\n",
            "Epoch 00049: val_loss did not improve from 0.73297\n",
            "240/240 - 0s - loss: 0.5725 - acc: 0.8292 - val_loss: 0.7862 - val_acc: 0.6170\n",
            "Epoch 50/100\n",
            "\n",
            "Epoch 00050: val_loss did not improve from 0.73297\n",
            "240/240 - 0s - loss: 0.5835 - acc: 0.8250 - val_loss: 0.7932 - val_acc: 0.6170\n",
            "Epoch 51/100\n",
            "\n",
            "Epoch 00051: val_loss did not improve from 0.73297\n",
            "240/240 - 0s - loss: 0.5744 - acc: 0.8208 - val_loss: 0.7511 - val_acc: 0.7021\n",
            "Epoch 52/100\n",
            "\n",
            "Epoch 00052: val_loss did not improve from 0.73297\n",
            "240/240 - 0s - loss: 0.5650 - acc: 0.8125 - val_loss: 0.7622 - val_acc: 0.6170\n",
            "Epoch 53/100\n",
            "\n",
            "Epoch 00053: val_loss did not improve from 0.73297\n",
            "240/240 - 0s - loss: 0.5780 - acc: 0.8458 - val_loss: 0.7592 - val_acc: 0.6596\n",
            "Epoch 54/100\n",
            "\n",
            "Epoch 00054: val_loss did not improve from 0.73297\n",
            "240/240 - 0s - loss: 0.5402 - acc: 0.8375 - val_loss: 0.7628 - val_acc: 0.6596\n",
            "Epoch 55/100\n",
            "\n",
            "Epoch 00055: val_loss did not improve from 0.73297\n",
            "240/240 - 0s - loss: 0.5376 - acc: 0.8458 - val_loss: 0.7576 - val_acc: 0.6596\n",
            "Epoch 56/100\n",
            "\n",
            "Epoch 00056: val_loss improved from 0.73297 to 0.69721, saving model to /tmp/checkpoint.h5\n",
            "240/240 - 0s - loss: 0.5490 - acc: 0.8375 - val_loss: 0.6972 - val_acc: 0.8085\n",
            "Epoch 57/100\n",
            "\n",
            "Epoch 00057: val_loss did not improve from 0.69721\n",
            "240/240 - 0s - loss: 0.5395 - acc: 0.8542 - val_loss: 0.7332 - val_acc: 0.6809\n",
            "Epoch 58/100\n",
            "\n",
            "Epoch 00058: val_loss did not improve from 0.69721\n",
            "240/240 - 0s - loss: 0.5392 - acc: 0.8583 - val_loss: 0.7485 - val_acc: 0.6596\n",
            "Epoch 59/100\n",
            "\n",
            "Epoch 00059: val_loss improved from 0.69721 to 0.68353, saving model to /tmp/checkpoint.h5\n",
            "240/240 - 0s - loss: 0.5126 - acc: 0.8708 - val_loss: 0.6835 - val_acc: 0.7660\n",
            "Epoch 60/100\n",
            "\n",
            "Epoch 00060: val_loss did not improve from 0.68353\n",
            "240/240 - 0s - loss: 0.5307 - acc: 0.8500 - val_loss: 0.7363 - val_acc: 0.7021\n",
            "Epoch 61/100\n",
            "\n",
            "Epoch 00061: val_loss did not improve from 0.68353\n",
            "240/240 - 0s - loss: 0.4964 - acc: 0.8792 - val_loss: 0.6941 - val_acc: 0.7447\n",
            "Epoch 62/100\n",
            "\n",
            "Epoch 00062: val_loss did not improve from 0.68353\n",
            "240/240 - 0s - loss: 0.5364 - acc: 0.8375 - val_loss: 0.7596 - val_acc: 0.6383\n",
            "Epoch 63/100\n",
            "\n",
            "Epoch 00063: val_loss did not improve from 0.68353\n",
            "240/240 - 0s - loss: 0.4837 - acc: 0.8625 - val_loss: 0.7269 - val_acc: 0.6809\n",
            "Epoch 64/100\n",
            "\n",
            "Epoch 00064: val_loss improved from 0.68353 to 0.66873, saving model to /tmp/checkpoint.h5\n",
            "240/240 - 0s - loss: 0.4755 - acc: 0.8875 - val_loss: 0.6687 - val_acc: 0.8085\n",
            "Epoch 65/100\n",
            "\n",
            "Epoch 00065: val_loss did not improve from 0.66873\n",
            "240/240 - 0s - loss: 0.5163 - acc: 0.8542 - val_loss: 0.7298 - val_acc: 0.7447\n",
            "Epoch 66/100\n",
            "\n",
            "Epoch 00066: val_loss did not improve from 0.66873\n",
            "240/240 - 0s - loss: 0.5390 - acc: 0.8500 - val_loss: 0.7051 - val_acc: 0.7447\n",
            "Epoch 67/100\n",
            "\n",
            "Epoch 00067: val_loss did not improve from 0.66873\n",
            "240/240 - 0s - loss: 0.5151 - acc: 0.8542 - val_loss: 0.7122 - val_acc: 0.7021\n",
            "Epoch 68/100\n",
            "\n",
            "Epoch 00068: val_loss did not improve from 0.66873\n",
            "240/240 - 0s - loss: 0.5570 - acc: 0.8333 - val_loss: 0.7037 - val_acc: 0.8085\n",
            "Epoch 69/100\n",
            "\n",
            "Epoch 00069: val_loss did not improve from 0.66873\n",
            "240/240 - 0s - loss: 0.4714 - acc: 0.8750 - val_loss: 0.7122 - val_acc: 0.7234\n",
            "Epoch 70/100\n",
            "\n",
            "Epoch 00070: val_loss did not improve from 0.66873\n",
            "240/240 - 0s - loss: 0.4675 - acc: 0.8917 - val_loss: 0.7220 - val_acc: 0.7021\n",
            "Epoch 71/100\n",
            "\n",
            "Epoch 00071: val_loss did not improve from 0.66873\n",
            "240/240 - 0s - loss: 0.5061 - acc: 0.8458 - val_loss: 0.7470 - val_acc: 0.6596\n",
            "Epoch 72/100\n",
            "\n",
            "Epoch 00072: val_loss did not improve from 0.66873\n",
            "240/240 - 0s - loss: 0.4936 - acc: 0.8625 - val_loss: 0.6794 - val_acc: 0.7872\n",
            "Epoch 73/100\n",
            "\n",
            "Epoch 00073: val_loss did not improve from 0.66873\n",
            "240/240 - 0s - loss: 0.4779 - acc: 0.8708 - val_loss: 0.7384 - val_acc: 0.6383\n",
            "Epoch 74/100\n",
            "\n",
            "Epoch 00074: val_loss did not improve from 0.66873\n",
            "240/240 - 0s - loss: 0.4844 - acc: 0.8750 - val_loss: 0.6788 - val_acc: 0.8298\n",
            "Epoch 75/100\n",
            "\n",
            "Epoch 00075: val_loss did not improve from 0.66873\n",
            "240/240 - 0s - loss: 0.4578 - acc: 0.8458 - val_loss: 0.7547 - val_acc: 0.6809\n",
            "Epoch 76/100\n",
            "\n",
            "Epoch 00076: val_loss did not improve from 0.66873\n",
            "240/240 - 0s - loss: 0.4570 - acc: 0.8750 - val_loss: 0.7323 - val_acc: 0.7234\n",
            "Epoch 77/100\n",
            "\n",
            "Epoch 00077: val_loss did not improve from 0.66873\n",
            "240/240 - 0s - loss: 0.5118 - acc: 0.8500 - val_loss: 0.7080 - val_acc: 0.7234\n",
            "Epoch 78/100\n",
            "\n",
            "Epoch 00078: val_loss did not improve from 0.66873\n",
            "240/240 - 0s - loss: 0.4624 - acc: 0.8750 - val_loss: 0.7360 - val_acc: 0.7021\n",
            "Epoch 79/100\n",
            "\n",
            "Epoch 00079: val_loss did not improve from 0.66873\n",
            "240/240 - 0s - loss: 0.4838 - acc: 0.8417 - val_loss: 0.6797 - val_acc: 0.7660\n",
            "Epoch 80/100\n",
            "\n",
            "Epoch 00080: val_loss did not improve from 0.66873\n",
            "240/240 - 0s - loss: 0.4552 - acc: 0.8792 - val_loss: 0.6936 - val_acc: 0.7660\n",
            "Epoch 81/100\n",
            "\n",
            "Epoch 00081: val_loss did not improve from 0.66873\n",
            "240/240 - 0s - loss: 0.4738 - acc: 0.9000 - val_loss: 0.6797 - val_acc: 0.7660\n",
            "Epoch 82/100\n",
            "\n",
            "Epoch 00082: val_loss did not improve from 0.66873\n",
            "240/240 - 0s - loss: 0.4472 - acc: 0.8875 - val_loss: 0.6876 - val_acc: 0.7234\n",
            "Epoch 83/100\n",
            "\n",
            "Epoch 00083: val_loss improved from 0.66873 to 0.66508, saving model to /tmp/checkpoint.h5\n",
            "240/240 - 0s - loss: 0.4670 - acc: 0.8667 - val_loss: 0.6651 - val_acc: 0.7660\n",
            "Epoch 84/100\n",
            "\n",
            "Epoch 00084: val_loss improved from 0.66508 to 0.60702, saving model to /tmp/checkpoint.h5\n",
            "240/240 - 0s - loss: 0.4211 - acc: 0.8792 - val_loss: 0.6070 - val_acc: 0.8511\n",
            "Epoch 85/100\n",
            "\n",
            "Epoch 00085: val_loss did not improve from 0.60702\n",
            "240/240 - 0s - loss: 0.4165 - acc: 0.9000 - val_loss: 0.6332 - val_acc: 0.8085\n",
            "Epoch 86/100\n",
            "\n",
            "Epoch 00086: val_loss did not improve from 0.60702\n",
            "240/240 - 0s - loss: 0.4472 - acc: 0.8958 - val_loss: 0.6543 - val_acc: 0.7872\n",
            "Epoch 87/100\n",
            "\n",
            "Epoch 00087: val_loss did not improve from 0.60702\n",
            "240/240 - 0s - loss: 0.4416 - acc: 0.8667 - val_loss: 0.6414 - val_acc: 0.7660\n",
            "Epoch 88/100\n",
            "\n",
            "Epoch 00088: val_loss did not improve from 0.60702\n",
            "240/240 - 0s - loss: 0.4562 - acc: 0.8917 - val_loss: 0.6938 - val_acc: 0.7021\n",
            "Epoch 89/100\n",
            "\n",
            "Epoch 00089: val_loss did not improve from 0.60702\n",
            "240/240 - 0s - loss: 0.4130 - acc: 0.9167 - val_loss: 0.6491 - val_acc: 0.7447\n",
            "Epoch 90/100\n",
            "\n",
            "Epoch 00090: val_loss did not improve from 0.60702\n",
            "240/240 - 0s - loss: 0.4183 - acc: 0.8875 - val_loss: 0.7017 - val_acc: 0.7234\n",
            "Epoch 91/100\n",
            "\n",
            "Epoch 00091: val_loss did not improve from 0.60702\n",
            "240/240 - 0s - loss: 0.4405 - acc: 0.9083 - val_loss: 0.6403 - val_acc: 0.7021\n",
            "Epoch 92/100\n",
            "\n",
            "Epoch 00092: val_loss did not improve from 0.60702\n",
            "240/240 - 0s - loss: 0.4439 - acc: 0.8792 - val_loss: 0.6941 - val_acc: 0.7660\n",
            "Epoch 93/100\n",
            "\n",
            "Epoch 00093: val_loss did not improve from 0.60702\n",
            "240/240 - 0s - loss: 0.4435 - acc: 0.8625 - val_loss: 0.6965 - val_acc: 0.7021\n",
            "Epoch 94/100\n",
            "\n",
            "Epoch 00094: val_loss improved from 0.60702 to 0.60042, saving model to /tmp/checkpoint.h5\n",
            "240/240 - 0s - loss: 0.3944 - acc: 0.9208 - val_loss: 0.6004 - val_acc: 0.8298\n",
            "Epoch 95/100\n",
            "\n",
            "Epoch 00095: val_loss did not improve from 0.60042\n",
            "240/240 - 0s - loss: 0.4293 - acc: 0.9000 - val_loss: 0.6368 - val_acc: 0.7234\n",
            "Epoch 96/100\n",
            "\n",
            "Epoch 00096: val_loss did not improve from 0.60042\n",
            "240/240 - 0s - loss: 0.4242 - acc: 0.8958 - val_loss: 0.6316 - val_acc: 0.7660\n",
            "Epoch 97/100\n",
            "\n",
            "Epoch 00097: val_loss did not improve from 0.60042\n",
            "240/240 - 0s - loss: 0.3904 - acc: 0.8917 - val_loss: 0.6717 - val_acc: 0.7447\n",
            "Epoch 98/100\n",
            "\n",
            "Epoch 00098: val_loss improved from 0.60042 to 0.57170, saving model to /tmp/checkpoint.h5\n",
            "240/240 - 0s - loss: 0.4008 - acc: 0.8833 - val_loss: 0.5717 - val_acc: 0.8085\n",
            "Epoch 99/100\n",
            "\n",
            "Epoch 00099: val_loss did not improve from 0.57170\n",
            "240/240 - 0s - loss: 0.3892 - acc: 0.8958 - val_loss: 0.6466 - val_acc: 0.7447\n",
            "Epoch 100/100\n",
            "\n",
            "Epoch 00100: val_loss improved from 0.57170 to 0.57008, saving model to /tmp/checkpoint.h5\n",
            "240/240 - 0s - loss: 0.3994 - acc: 0.8917 - val_loss: 0.5701 - val_acc: 0.8723\n"
          ],
          "name": "stdout"
        }
      ]
    },
    {
      "cell_type": "code",
      "metadata": {
        "id": "f4aC5kY7lhys",
        "colab_type": "code",
        "outputId": "6b883517-f380-4b85-866d-e7c1ee413d3b",
        "colab": {
          "base_uri": "https://localhost:8080/",
          "height": 295
        }
      },
      "source": [
        "# Plot training & validation accuracy values\n",
        "plt.plot(history.history['acc'])\n",
        "plt.plot(history.history['val_acc'])\n",
        "plt.title('Model accuracy')\n",
        "plt.ylabel('Accuracy')\n",
        "plt.xlabel('Epoch')\n",
        "plt.legend(['Train', 'Test'], loc='upper left')\n",
        "plt.show()"
      ],
      "execution_count": 0,
      "outputs": [
        {
          "output_type": "display_data",
          "data": {
            "image/png": "[encoded data removed]",
            "text/plain": [
              "<Figure size 432x288 with 1 Axes>"
            ]
          },
          "metadata": {
            "tags": []
          }
        }
      ]
    },
    {
      "cell_type": "code",
      "metadata": {
        "id": "0P8YE0iV2XwS",
        "colab_type": "code",
        "colab": {}
      },
      "source": [
        "ynew = model.predict(X_test)"
      ],
      "execution_count": 0,
      "outputs": []
    },
    {
      "cell_type": "code",
      "metadata": {
        "id": "EfAoIy2p3lWB",
        "colab_type": "code",
        "outputId": "3b8aeb28-cd3e-44b5-87b4-20f92413e143",
        "colab": {
          "base_uri": "https://localhost:8080/",
          "height": 85
        }
      },
      "source": [
        "# Evaluate the model on the test data using `evaluate`\n",
        "print('\\n# Evaluate on test data')\n",
        "results = model.evaluate(X_test, Y_test, batch_size=1)\n",
        "print('test loss, test acc:', results)"
      ],
      "execution_count": 0,
      "outputs": [
        {
          "output_type": "stream",
          "text": [
            "\n",
            "# Evaluate on test data\n",
            "288/288 [==============================] - 1s 2ms/sample - loss: 0.6215 - acc: 0.7222\n",
            "test loss, test acc: [0.6215209133159887, 0.7222222]\n"
          ],
          "name": "stdout"
        }
      ]
    }
  ]
}