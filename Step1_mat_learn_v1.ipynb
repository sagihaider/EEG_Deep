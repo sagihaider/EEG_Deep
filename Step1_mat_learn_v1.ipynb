{
  "nbformat": 4,
  "nbformat_minor": 0,
  "metadata": {
    "colab": {
      "name": "Step1_mat_learn_v1.ipynb",
      "provenance": [],
      "collapsed_sections": [],
      "include_colab_link": true
    },
    "kernelspec": {
      "name": "python3",
      "display_name": "Python 3"
    },
    "accelerator": "GPU"
  },
  "cells": [
    {
      "cell_type": "markdown",
      "metadata": {
        "id": "view-in-github",
        "colab_type": "text"
      },
      "source": [
        "<a href=\"https://colab.research.google.com/github/sagihaider/EEG_Deep/blob/master/Step1_mat_learn_v1.ipynb\" target=\"_parent\"><img src=\"https://colab.research.google.com/assets/colab-badge.svg\" alt=\"Open In Colab\"/></a>"
      ]
    },
    {
      "cell_type": "code",
      "metadata": {
        "id": "X110PE9MjrlE",
        "colab_type": "code",
        "outputId": "c98ad8a6-47fb-4901-cde2-d153f886dc3c",
        "colab": {
          "base_uri": "https://localhost:8080/",
          "height": 136
        }
      },
      "source": [
        "!git clone https://github.com/sagihaider/EEG_Deep.git"
      ],
      "execution_count": 1,
      "outputs": [
        {
          "output_type": "stream",
          "text": [
            "Cloning into 'EEG_Deep'...\n",
            "remote: Enumerating objects: 5, done.\u001b[K\n",
            "remote: Counting objects: 100% (5/5), done.\u001b[K\n",
            "remote: Compressing objects: 100% (5/5), done.\u001b[K\n",
            "remote: Total 53 (delta 0), reused 3 (delta 0), pack-reused 48\u001b[K\n",
            "Unpacking objects: 100% (53/53), done.\n",
            "Checking out files: 100% (24/24), done.\n"
          ],
          "name": "stdout"
        }
      ]
    },
    {
      "cell_type": "code",
      "metadata": {
        "id": "ioLzMoiS60Qf",
        "colab_type": "code",
        "outputId": "33a8aa37-722d-4c87-b229-306705f7eeb1",
        "colab": {
          "base_uri": "https://localhost:8080/",
          "height": 80
        }
      },
      "source": [
        "import scipy.io as spio\n",
        "import numpy as np\n",
        "from importlib.machinery import SourceFileLoader\n",
        "\n",
        "# EEGNet-specific imports\n",
        "from EEG_Deep.EEGModels import EEGNet, ShallowConvNet, DeepConvNet\n",
        "from tensorflow.keras import utils as np_utils\n",
        "from tensorflow.keras.callbacks import ModelCheckpoint\n",
        "from tensorflow.keras import backend as K\n",
        "K.set_image_data_format('channels_first')\n",
        "\n",
        "from sklearn.pipeline import make_pipeline\n",
        "from sklearn.linear_model import LogisticRegression\n",
        "\n",
        "# tools for plotting confusion matrices\n",
        "from matplotlib import pyplot as plt"
      ],
      "execution_count": 2,
      "outputs": [
        {
          "output_type": "display_data",
          "data": {
            "text/html": [
              "<p style=\"color: red;\">\n",
              "The default version of TensorFlow in Colab will soon switch to TensorFlow 2.x.<br>\n",
              "We recommend you <a href=\"https://www.tensorflow.org/guide/migrate\" target=\"_blank\">upgrade</a> now \n",
              "or ensure your notebook will continue to use TensorFlow 1.x via the <code>%tensorflow_version 1.x</code> magic:\n",
              "<a href=\"https://colab.research.google.com/notebooks/tensorflow_version.ipynb\" target=\"_blank\">more info</a>.</p>\n"
            ],
            "text/plain": [
              "<IPython.core.display.HTML object>"
            ]
          },
          "metadata": {
            "tags": []
          }
        }
      ]
    },
    {
      "cell_type": "code",
      "metadata": {
        "id": "ZjtnE_6RSpum",
        "colab_type": "code",
        "outputId": "02f9fd06-df54-4c78-939d-8967537b49d2",
        "colab": {
          "base_uri": "https://localhost:8080/",
          "height": 34
        }
      },
      "source": [
        "x= 1         \n",
        "fName = 'EEG_Deep/Data2A/Data_A0' + str(x) + 'T.mat'  # Load Data\n",
        "print(fName)\n",
        "mat = spio.loadmat(fName)\n",
        "X = mat['cleanRawEEGData']\n",
        "y = mat['cleanClassLabels']"
      ],
      "execution_count": 3,
      "outputs": [
        {
          "output_type": "stream",
          "text": [
            "EEG_Deep/Data2A/Data_A01T.mat\n"
          ],
          "name": "stdout"
        }
      ]
    },
    {
      "cell_type": "code",
      "metadata": {
        "id": "3c11RQCoS80S",
        "colab_type": "code",
        "outputId": "ddb282e9-9dde-41ab-de5c-d0bae711f6c9",
        "colab": {
          "base_uri": "https://localhost:8080/",
          "height": 51
        }
      },
      "source": [
        "print(np.shape(X))\n",
        "print(np.shape(y))"
      ],
      "execution_count": 4,
      "outputs": [
        {
          "output_type": "stream",
          "text": [
            "(288, 22, 1875)\n",
            "(288, 1)\n"
          ],
          "name": "stdout"
        }
      ]
    },
    {
      "cell_type": "code",
      "metadata": {
        "id": "tgWnQSY5T4op",
        "colab_type": "code",
        "outputId": "84b265ce-c5d1-4397-de99-376d28ec81b6",
        "colab": {
          "base_uri": "https://localhost:8080/",
          "height": 85
        }
      },
      "source": [
        "\n",
        "# take 50/25/25 percent of the data to train/validate/test\n",
        "X_train      = X[0:200,:,500:1250]\n",
        "Y_train      = y[0:200]\n",
        "#X_validate   = X[151:200,:,500:1250]\n",
        "#Y_validate   = y[151:200]\n",
        "X_test       = X[201:,:,500:1250]\n",
        "Y_test       = y[201:]\n",
        "\n",
        "print(np.shape(X_train))\n",
        "print(np.shape(Y_train))\n",
        "# print(np.shape(X_validate))\n",
        "# print(np.shape(Y_validate))\n",
        "print(np.shape(X_test))\n",
        "print(np.shape(Y_test))"
      ],
      "execution_count": 5,
      "outputs": [
        {
          "output_type": "stream",
          "text": [
            "(200, 22, 750)\n",
            "(200, 1)\n",
            "(87, 22, 750)\n",
            "(87, 1)\n"
          ],
          "name": "stdout"
        }
      ]
    },
    {
      "cell_type": "code",
      "metadata": {
        "id": "bfC8z4I-UnF6",
        "colab_type": "code",
        "colab": {}
      },
      "source": [
        "\n",
        "# convert labels to one-hot encodings.\n",
        "Y_train      = np_utils.to_categorical(Y_train-1)\n",
        "# Y_validate   = np_utils.to_categorical(Y_validate-1)\n",
        "Y_test       = np_utils.to_categorical(Y_test-1)"
      ],
      "execution_count": 0,
      "outputs": []
    },
    {
      "cell_type": "code",
      "metadata": {
        "id": "NqmsOU1BXOZJ",
        "colab_type": "code",
        "outputId": "c7c056f2-0a7e-4af8-9bd1-84204e32b5d7",
        "colab": {
          "base_uri": "https://localhost:8080/",
          "height": 68
        }
      },
      "source": [
        "kernels, chans, samples = 1, 22, 750\n",
        "\n",
        "# convert data to NCHW (trials, kernels, channels, samples) format. Data \n",
        "# contains 22 channels and 500 time-points. Set the number of kernels to 1.\n",
        "X_train      = X_train.reshape(X_train.shape[0], kernels, chans, samples)\n",
        "# X_validate   = X_validate.reshape(X_validate.shape[0], kernels, chans, samples)\n",
        "X_test       = X_test.reshape(X_test.shape[0], kernels, chans, samples)\n",
        "   \n",
        "print('X_train shape:', X_train.shape)\n",
        "print(X_train.shape[0], 'train samples')\n",
        "print(X_test.shape[0], 'test samples')"
      ],
      "execution_count": 7,
      "outputs": [
        {
          "output_type": "stream",
          "text": [
            "X_train shape: (200, 1, 22, 750)\n",
            "200 train samples\n",
            "87 test samples\n"
          ],
          "name": "stdout"
        }
      ]
    },
    {
      "cell_type": "code",
      "metadata": {
        "id": "rUlJdZk_X1OY",
        "colab_type": "code",
        "colab": {
          "base_uri": "https://localhost:8080/",
          "height": 88
        },
        "outputId": "d312d512-7c64-460b-c01c-037723948a2c"
      },
      "source": [
        "# configure the EEGNet-8,2,16 model with kernel length of 32 samples (other \n",
        "# model configurations may do better, but this is a good starting point)\n",
        "model = EEGNet(nb_classes = 4, Chans = 22, Samples = 750, \n",
        "             dropoutRate = 0.5, kernLength = 25, F1 = 8, \n",
        "             D = 2, F2 = 16, norm_rate = 0.25, dropoutType = 'Dropout')\n",
        "\n",
        "# compile the model and set the optimizers\n",
        "model.compile(loss='categorical_crossentropy', optimizer='adam', \n",
        "              metrics = ['accuracy'])\n",
        "\n",
        "# count number of parameters in the model\n",
        "numParams    = model.count_params() \n",
        "\n",
        "# set a valid path for your system to record model checkpoints\n",
        "checkpointer = ModelCheckpoint(filepath='/tmp/checkpoint.h5', verbose=1,\n",
        "                               save_best_only=True)"
      ],
      "execution_count": 8,
      "outputs": [
        {
          "output_type": "stream",
          "text": [
            "WARNING:tensorflow:From /usr/local/lib/python3.6/dist-packages/tensorflow_core/python/ops/resource_variable_ops.py:1630: calling BaseResourceVariable.__init__ (from tensorflow.python.ops.resource_variable_ops) with constraint is deprecated and will be removed in a future version.\n",
            "Instructions for updating:\n",
            "If using Keras pass *_constraint arguments to layers.\n"
          ],
          "name": "stdout"
        }
      ]
    },
    {
      "cell_type": "code",
      "metadata": {
        "id": "CwvCZhYUfIx9",
        "colab_type": "code",
        "outputId": "aad08234-0c14-46f3-e6f0-07232fa54051",
        "colab": {
          "base_uri": "https://localhost:8080/",
          "height": 1000
        }
      },
      "source": [
        "# the syntax is {class_1:weight_1, class_2:weight_2,...}. Here just setting\n",
        "# the weights all to be 1\n",
        "class_weights = {0:1, 1:1, 2:1, 3:1}\n",
        "\n",
        "################################################################################\n",
        "# fit the model. Due to very small sample sizes this can get\n",
        "# pretty noisy run-to-run, but most runs should be comparable to xDAWN + \n",
        "# Riemannian geometry classification (below)\n",
        "################################################################################\n",
        "history = model.fit(X_train, Y_train, batch_size = 16, epochs = 100, \n",
        "                        verbose = 2, validation_data=(X_test, Y_test),\n",
        "                        callbacks=[checkpointer], class_weight = class_weights)"
      ],
      "execution_count": 15,
      "outputs": [
        {
          "output_type": "stream",
          "text": [
            "Train on 200 samples, validate on 87 samples\n",
            "Epoch 1/100\n",
            "\n",
            "Epoch 00001: val_loss did not improve from 0.54943\n",
            "200/200 - 1s - loss: 0.1287 - acc: 0.9800 - val_loss: 0.6557 - val_acc: 0.7471\n",
            "Epoch 2/100\n",
            "\n",
            "Epoch 00002: val_loss did not improve from 0.54943\n",
            "200/200 - 0s - loss: 0.1201 - acc: 0.9900 - val_loss: 0.6051 - val_acc: 0.7356\n",
            "Epoch 3/100\n",
            "\n",
            "Epoch 00003: val_loss did not improve from 0.54943\n",
            "200/200 - 0s - loss: 0.1036 - acc: 0.9850 - val_loss: 0.6614 - val_acc: 0.7241\n",
            "Epoch 4/100\n",
            "\n",
            "Epoch 00004: val_loss did not improve from 0.54943\n",
            "200/200 - 0s - loss: 0.1136 - acc: 0.9750 - val_loss: 0.6504 - val_acc: 0.7126\n",
            "Epoch 5/100\n",
            "\n",
            "Epoch 00005: val_loss did not improve from 0.54943\n",
            "200/200 - 0s - loss: 0.0979 - acc: 0.9850 - val_loss: 0.6513 - val_acc: 0.7471\n",
            "Epoch 6/100\n",
            "\n",
            "Epoch 00006: val_loss did not improve from 0.54943\n",
            "200/200 - 0s - loss: 0.1459 - acc: 0.9700 - val_loss: 0.7397 - val_acc: 0.7356\n",
            "Epoch 7/100\n",
            "\n",
            "Epoch 00007: val_loss did not improve from 0.54943\n",
            "200/200 - 0s - loss: 0.1544 - acc: 0.9600 - val_loss: 0.6096 - val_acc: 0.7241\n",
            "Epoch 8/100\n",
            "\n",
            "Epoch 00008: val_loss did not improve from 0.54943\n",
            "200/200 - 0s - loss: 0.1161 - acc: 0.9750 - val_loss: 0.6300 - val_acc: 0.7471\n",
            "Epoch 9/100\n",
            "\n",
            "Epoch 00009: val_loss did not improve from 0.54943\n",
            "200/200 - 0s - loss: 0.1136 - acc: 0.9800 - val_loss: 0.5989 - val_acc: 0.7586\n",
            "Epoch 10/100\n",
            "\n",
            "Epoch 00010: val_loss improved from 0.54943 to 0.53350, saving model to /tmp/checkpoint.h5\n",
            "200/200 - 0s - loss: 0.1700 - acc: 0.9550 - val_loss: 0.5335 - val_acc: 0.7931\n",
            "Epoch 11/100\n",
            "\n",
            "Epoch 00011: val_loss did not improve from 0.53350\n",
            "200/200 - 0s - loss: 0.1765 - acc: 0.9500 - val_loss: 0.7137 - val_acc: 0.7356\n",
            "Epoch 12/100\n",
            "\n",
            "Epoch 00012: val_loss did not improve from 0.53350\n",
            "200/200 - 0s - loss: 0.1345 - acc: 0.9800 - val_loss: 0.5787 - val_acc: 0.7586\n",
            "Epoch 13/100\n",
            "\n",
            "Epoch 00013: val_loss did not improve from 0.53350\n",
            "200/200 - 0s - loss: 0.1234 - acc: 0.9800 - val_loss: 0.6166 - val_acc: 0.7816\n",
            "Epoch 14/100\n",
            "\n",
            "Epoch 00014: val_loss did not improve from 0.53350\n",
            "200/200 - 0s - loss: 0.1413 - acc: 0.9800 - val_loss: 0.6258 - val_acc: 0.7471\n",
            "Epoch 15/100\n",
            "\n",
            "Epoch 00015: val_loss did not improve from 0.53350\n",
            "200/200 - 0s - loss: 0.1615 - acc: 0.9600 - val_loss: 0.5422 - val_acc: 0.7816\n",
            "Epoch 16/100\n",
            "\n",
            "Epoch 00016: val_loss did not improve from 0.53350\n",
            "200/200 - 0s - loss: 0.1224 - acc: 0.9800 - val_loss: 0.6654 - val_acc: 0.7701\n",
            "Epoch 17/100\n",
            "\n",
            "Epoch 00017: val_loss did not improve from 0.53350\n",
            "200/200 - 0s - loss: 0.1308 - acc: 0.9650 - val_loss: 0.5789 - val_acc: 0.7586\n",
            "Epoch 18/100\n",
            "\n",
            "Epoch 00018: val_loss did not improve from 0.53350\n",
            "200/200 - 0s - loss: 0.1350 - acc: 0.9600 - val_loss: 0.5828 - val_acc: 0.7586\n",
            "Epoch 19/100\n",
            "\n",
            "Epoch 00019: val_loss did not improve from 0.53350\n",
            "200/200 - 0s - loss: 0.1264 - acc: 0.9800 - val_loss: 0.6260 - val_acc: 0.7586\n",
            "Epoch 20/100\n",
            "\n",
            "Epoch 00020: val_loss did not improve from 0.53350\n",
            "200/200 - 0s - loss: 0.1071 - acc: 0.9750 - val_loss: 0.5875 - val_acc: 0.7471\n",
            "Epoch 21/100\n",
            "\n",
            "Epoch 00021: val_loss did not improve from 0.53350\n",
            "200/200 - 0s - loss: 0.1153 - acc: 0.9850 - val_loss: 0.6432 - val_acc: 0.7586\n",
            "Epoch 22/100\n",
            "\n",
            "Epoch 00022: val_loss did not improve from 0.53350\n",
            "200/200 - 0s - loss: 0.1007 - acc: 0.9850 - val_loss: 0.6234 - val_acc: 0.7471\n",
            "Epoch 23/100\n",
            "\n",
            "Epoch 00023: val_loss did not improve from 0.53350\n",
            "200/200 - 0s - loss: 0.1393 - acc: 0.9750 - val_loss: 0.5413 - val_acc: 0.7816\n",
            "Epoch 24/100\n",
            "\n",
            "Epoch 00024: val_loss did not improve from 0.53350\n",
            "200/200 - 0s - loss: 0.1254 - acc: 0.9650 - val_loss: 0.7470 - val_acc: 0.6897\n",
            "Epoch 25/100\n",
            "\n",
            "Epoch 00025: val_loss did not improve from 0.53350\n",
            "200/200 - 0s - loss: 0.1419 - acc: 0.9600 - val_loss: 0.5876 - val_acc: 0.7701\n",
            "Epoch 26/100\n",
            "\n",
            "Epoch 00026: val_loss did not improve from 0.53350\n",
            "200/200 - 0s - loss: 0.1829 - acc: 0.9350 - val_loss: 0.7408 - val_acc: 0.7241\n",
            "Epoch 27/100\n",
            "\n",
            "Epoch 00027: val_loss did not improve from 0.53350\n",
            "200/200 - 0s - loss: 0.1491 - acc: 0.9600 - val_loss: 0.7897 - val_acc: 0.6897\n",
            "Epoch 28/100\n",
            "\n",
            "Epoch 00028: val_loss did not improve from 0.53350\n",
            "200/200 - 0s - loss: 0.1521 - acc: 0.9550 - val_loss: 0.6966 - val_acc: 0.7011\n",
            "Epoch 29/100\n",
            "\n",
            "Epoch 00029: val_loss did not improve from 0.53350\n",
            "200/200 - 0s - loss: 0.1296 - acc: 0.9750 - val_loss: 0.7342 - val_acc: 0.7356\n",
            "Epoch 30/100\n",
            "\n",
            "Epoch 00030: val_loss did not improve from 0.53350\n",
            "200/200 - 0s - loss: 0.1528 - acc: 0.9550 - val_loss: 0.6514 - val_acc: 0.7241\n",
            "Epoch 31/100\n",
            "\n",
            "Epoch 00031: val_loss did not improve from 0.53350\n",
            "200/200 - 0s - loss: 0.1395 - acc: 0.9550 - val_loss: 0.6288 - val_acc: 0.7356\n",
            "Epoch 32/100\n",
            "\n",
            "Epoch 00032: val_loss did not improve from 0.53350\n",
            "200/200 - 0s - loss: 0.1455 - acc: 0.9750 - val_loss: 0.6859 - val_acc: 0.7241\n",
            "Epoch 33/100\n",
            "\n",
            "Epoch 00033: val_loss did not improve from 0.53350\n",
            "200/200 - 0s - loss: 0.1187 - acc: 0.9750 - val_loss: 0.6184 - val_acc: 0.7356\n",
            "Epoch 34/100\n",
            "\n",
            "Epoch 00034: val_loss did not improve from 0.53350\n",
            "200/200 - 0s - loss: 0.0998 - acc: 0.9750 - val_loss: 0.6750 - val_acc: 0.7471\n",
            "Epoch 35/100\n",
            "\n",
            "Epoch 00035: val_loss did not improve from 0.53350\n",
            "200/200 - 0s - loss: 0.1294 - acc: 0.9550 - val_loss: 0.5817 - val_acc: 0.7701\n",
            "Epoch 36/100\n",
            "\n",
            "Epoch 00036: val_loss did not improve from 0.53350\n",
            "200/200 - 0s - loss: 0.1546 - acc: 0.9600 - val_loss: 0.7532 - val_acc: 0.7586\n",
            "Epoch 37/100\n",
            "\n",
            "Epoch 00037: val_loss did not improve from 0.53350\n",
            "200/200 - 0s - loss: 0.1263 - acc: 0.9650 - val_loss: 0.5877 - val_acc: 0.8046\n",
            "Epoch 38/100\n",
            "\n",
            "Epoch 00038: val_loss did not improve from 0.53350\n",
            "200/200 - 0s - loss: 0.1444 - acc: 0.9650 - val_loss: 0.5996 - val_acc: 0.7471\n",
            "Epoch 39/100\n",
            "\n",
            "Epoch 00039: val_loss did not improve from 0.53350\n",
            "200/200 - 0s - loss: 0.1521 - acc: 0.9650 - val_loss: 0.6938 - val_acc: 0.7011\n",
            "Epoch 40/100\n",
            "\n",
            "Epoch 00040: val_loss did not improve from 0.53350\n",
            "200/200 - 0s - loss: 0.1796 - acc: 0.9350 - val_loss: 0.6605 - val_acc: 0.7816\n",
            "Epoch 41/100\n",
            "\n",
            "Epoch 00041: val_loss did not improve from 0.53350\n",
            "200/200 - 0s - loss: 0.1490 - acc: 0.9600 - val_loss: 0.6646 - val_acc: 0.7586\n",
            "Epoch 42/100\n",
            "\n",
            "Epoch 00042: val_loss improved from 0.53350 to 0.52100, saving model to /tmp/checkpoint.h5\n",
            "200/200 - 0s - loss: 0.1703 - acc: 0.9450 - val_loss: 0.5210 - val_acc: 0.8046\n",
            "Epoch 43/100\n",
            "\n",
            "Epoch 00043: val_loss did not improve from 0.52100\n",
            "200/200 - 0s - loss: 0.1437 - acc: 0.9550 - val_loss: 0.7149 - val_acc: 0.7356\n",
            "Epoch 44/100\n",
            "\n",
            "Epoch 00044: val_loss did not improve from 0.52100\n",
            "200/200 - 0s - loss: 0.1512 - acc: 0.9550 - val_loss: 0.6324 - val_acc: 0.7356\n",
            "Epoch 45/100\n",
            "\n",
            "Epoch 00045: val_loss did not improve from 0.52100\n",
            "200/200 - 0s - loss: 0.1403 - acc: 0.9700 - val_loss: 0.6538 - val_acc: 0.7471\n",
            "Epoch 46/100\n",
            "\n",
            "Epoch 00046: val_loss did not improve from 0.52100\n",
            "200/200 - 0s - loss: 0.1452 - acc: 0.9650 - val_loss: 0.6531 - val_acc: 0.7701\n",
            "Epoch 47/100\n",
            "\n",
            "Epoch 00047: val_loss did not improve from 0.52100\n",
            "200/200 - 0s - loss: 0.1234 - acc: 0.9800 - val_loss: 0.6738 - val_acc: 0.7471\n",
            "Epoch 48/100\n",
            "\n",
            "Epoch 00048: val_loss did not improve from 0.52100\n",
            "200/200 - 0s - loss: 0.1480 - acc: 0.9550 - val_loss: 0.6957 - val_acc: 0.7471\n",
            "Epoch 49/100\n",
            "\n",
            "Epoch 00049: val_loss did not improve from 0.52100\n",
            "200/200 - 0s - loss: 0.1110 - acc: 0.9900 - val_loss: 0.6305 - val_acc: 0.7471\n",
            "Epoch 50/100\n",
            "\n",
            "Epoch 00050: val_loss did not improve from 0.52100\n",
            "200/200 - 0s - loss: 0.1422 - acc: 0.9750 - val_loss: 0.7018 - val_acc: 0.7356\n",
            "Epoch 51/100\n",
            "\n",
            "Epoch 00051: val_loss did not improve from 0.52100\n",
            "200/200 - 0s - loss: 0.1378 - acc: 0.9700 - val_loss: 0.5919 - val_acc: 0.7701\n",
            "Epoch 52/100\n",
            "\n",
            "Epoch 00052: val_loss did not improve from 0.52100\n",
            "200/200 - 0s - loss: 0.1600 - acc: 0.9400 - val_loss: 0.6726 - val_acc: 0.7241\n",
            "Epoch 53/100\n",
            "\n",
            "Epoch 00053: val_loss did not improve from 0.52100\n",
            "200/200 - 0s - loss: 0.1356 - acc: 0.9600 - val_loss: 0.5752 - val_acc: 0.7241\n",
            "Epoch 54/100\n",
            "\n",
            "Epoch 00054: val_loss did not improve from 0.52100\n",
            "200/200 - 0s - loss: 0.1155 - acc: 0.9750 - val_loss: 0.6480 - val_acc: 0.7471\n",
            "Epoch 55/100\n",
            "\n",
            "Epoch 00055: val_loss did not improve from 0.52100\n",
            "200/200 - 0s - loss: 0.1370 - acc: 0.9750 - val_loss: 0.6203 - val_acc: 0.7356\n",
            "Epoch 56/100\n",
            "\n",
            "Epoch 00056: val_loss did not improve from 0.52100\n",
            "200/200 - 0s - loss: 0.1377 - acc: 0.9600 - val_loss: 0.5914 - val_acc: 0.7356\n",
            "Epoch 57/100\n",
            "\n",
            "Epoch 00057: val_loss did not improve from 0.52100\n",
            "200/200 - 0s - loss: 0.1319 - acc: 0.9700 - val_loss: 0.6444 - val_acc: 0.7586\n",
            "Epoch 58/100\n",
            "\n",
            "Epoch 00058: val_loss did not improve from 0.52100\n",
            "200/200 - 0s - loss: 0.1046 - acc: 0.9700 - val_loss: 0.6197 - val_acc: 0.7471\n",
            "Epoch 59/100\n",
            "\n",
            "Epoch 00059: val_loss did not improve from 0.52100\n",
            "200/200 - 0s - loss: 0.1257 - acc: 0.9750 - val_loss: 0.6195 - val_acc: 0.7356\n",
            "Epoch 60/100\n",
            "\n",
            "Epoch 00060: val_loss did not improve from 0.52100\n",
            "200/200 - 0s - loss: 0.1772 - acc: 0.9400 - val_loss: 0.6725 - val_acc: 0.7241\n",
            "Epoch 61/100\n",
            "\n",
            "Epoch 00061: val_loss did not improve from 0.52100\n",
            "200/200 - 0s - loss: 0.1411 - acc: 0.9600 - val_loss: 0.6830 - val_acc: 0.7126\n",
            "Epoch 62/100\n",
            "\n",
            "Epoch 00062: val_loss did not improve from 0.52100\n",
            "200/200 - 0s - loss: 0.1521 - acc: 0.9550 - val_loss: 0.5625 - val_acc: 0.7471\n",
            "Epoch 63/100\n",
            "\n",
            "Epoch 00063: val_loss did not improve from 0.52100\n",
            "200/200 - 0s - loss: 0.1362 - acc: 0.9700 - val_loss: 0.6918 - val_acc: 0.7011\n",
            "Epoch 64/100\n",
            "\n",
            "Epoch 00064: val_loss did not improve from 0.52100\n",
            "200/200 - 0s - loss: 0.0884 - acc: 0.9800 - val_loss: 0.6465 - val_acc: 0.7126\n",
            "Epoch 65/100\n",
            "\n",
            "Epoch 00065: val_loss did not improve from 0.52100\n",
            "200/200 - 0s - loss: 0.1366 - acc: 0.9500 - val_loss: 0.6951 - val_acc: 0.7586\n",
            "Epoch 66/100\n",
            "\n",
            "Epoch 00066: val_loss did not improve from 0.52100\n",
            "200/200 - 0s - loss: 0.1103 - acc: 0.9850 - val_loss: 0.6425 - val_acc: 0.7701\n",
            "Epoch 67/100\n",
            "\n",
            "Epoch 00067: val_loss did not improve from 0.52100\n",
            "200/200 - 0s - loss: 0.1174 - acc: 0.9800 - val_loss: 0.6222 - val_acc: 0.7356\n",
            "Epoch 68/100\n",
            "\n",
            "Epoch 00068: val_loss did not improve from 0.52100\n",
            "200/200 - 0s - loss: 0.1163 - acc: 0.9700 - val_loss: 0.6902 - val_acc: 0.7356\n",
            "Epoch 69/100\n",
            "\n",
            "Epoch 00069: val_loss did not improve from 0.52100\n",
            "200/200 - 0s - loss: 0.1260 - acc: 0.9800 - val_loss: 0.6793 - val_acc: 0.7586\n",
            "Epoch 70/100\n",
            "\n",
            "Epoch 00070: val_loss did not improve from 0.52100\n",
            "200/200 - 0s - loss: 0.1278 - acc: 0.9700 - val_loss: 0.5876 - val_acc: 0.7701\n",
            "Epoch 71/100\n",
            "\n",
            "Epoch 00071: val_loss did not improve from 0.52100\n",
            "200/200 - 0s - loss: 0.1161 - acc: 0.9800 - val_loss: 0.7350 - val_acc: 0.7126\n",
            "Epoch 72/100\n",
            "\n",
            "Epoch 00072: val_loss did not improve from 0.52100\n",
            "200/200 - 0s - loss: 0.1427 - acc: 0.9550 - val_loss: 0.6794 - val_acc: 0.7586\n",
            "Epoch 73/100\n",
            "\n",
            "Epoch 00073: val_loss did not improve from 0.52100\n",
            "200/200 - 0s - loss: 0.1112 - acc: 0.9900 - val_loss: 0.5835 - val_acc: 0.7471\n",
            "Epoch 74/100\n",
            "\n",
            "Epoch 00074: val_loss did not improve from 0.52100\n",
            "200/200 - 0s - loss: 0.1061 - acc: 0.9950 - val_loss: 0.5689 - val_acc: 0.7701\n",
            "Epoch 75/100\n",
            "\n",
            "Epoch 00075: val_loss did not improve from 0.52100\n",
            "200/200 - 0s - loss: 0.1007 - acc: 0.9750 - val_loss: 0.6948 - val_acc: 0.7471\n",
            "Epoch 76/100\n",
            "\n",
            "Epoch 00076: val_loss did not improve from 0.52100\n",
            "200/200 - 0s - loss: 0.1350 - acc: 0.9700 - val_loss: 0.6280 - val_acc: 0.7356\n",
            "Epoch 77/100\n",
            "\n",
            "Epoch 00077: val_loss did not improve from 0.52100\n",
            "200/200 - 0s - loss: 0.1144 - acc: 0.9750 - val_loss: 0.6463 - val_acc: 0.7586\n",
            "Epoch 78/100\n",
            "\n",
            "Epoch 00078: val_loss did not improve from 0.52100\n",
            "200/200 - 0s - loss: 0.1144 - acc: 0.9800 - val_loss: 0.6154 - val_acc: 0.7816\n",
            "Epoch 79/100\n",
            "\n",
            "Epoch 00079: val_loss did not improve from 0.52100\n",
            "200/200 - 0s - loss: 0.1230 - acc: 0.9700 - val_loss: 0.6672 - val_acc: 0.7126\n",
            "Epoch 80/100\n",
            "\n",
            "Epoch 00080: val_loss did not improve from 0.52100\n",
            "200/200 - 0s - loss: 0.1061 - acc: 0.9850 - val_loss: 0.5872 - val_acc: 0.7126\n",
            "Epoch 81/100\n",
            "\n",
            "Epoch 00081: val_loss did not improve from 0.52100\n",
            "200/200 - 0s - loss: 0.1048 - acc: 0.9900 - val_loss: 0.6799 - val_acc: 0.7471\n",
            "Epoch 82/100\n",
            "\n",
            "Epoch 00082: val_loss did not improve from 0.52100\n",
            "200/200 - 0s - loss: 0.0931 - acc: 0.9900 - val_loss: 0.5949 - val_acc: 0.7471\n",
            "Epoch 83/100\n",
            "\n",
            "Epoch 00083: val_loss did not improve from 0.52100\n",
            "200/200 - 0s - loss: 0.1087 - acc: 0.9800 - val_loss: 0.6833 - val_acc: 0.7586\n",
            "Epoch 84/100\n",
            "\n",
            "Epoch 00084: val_loss did not improve from 0.52100\n",
            "200/200 - 0s - loss: 0.1036 - acc: 0.9800 - val_loss: 0.5819 - val_acc: 0.7471\n",
            "Epoch 85/100\n",
            "\n",
            "Epoch 00085: val_loss did not improve from 0.52100\n",
            "200/200 - 0s - loss: 0.1117 - acc: 0.9800 - val_loss: 0.5758 - val_acc: 0.7816\n",
            "Epoch 86/100\n",
            "\n",
            "Epoch 00086: val_loss did not improve from 0.52100\n",
            "200/200 - 0s - loss: 0.1123 - acc: 0.9750 - val_loss: 0.7061 - val_acc: 0.7356\n",
            "Epoch 87/100\n",
            "\n",
            "Epoch 00087: val_loss did not improve from 0.52100\n",
            "200/200 - 0s - loss: 0.1512 - acc: 0.9500 - val_loss: 0.6382 - val_acc: 0.7586\n",
            "Epoch 88/100\n",
            "\n",
            "Epoch 00088: val_loss did not improve from 0.52100\n",
            "200/200 - 0s - loss: 0.1456 - acc: 0.9750 - val_loss: 0.6760 - val_acc: 0.7471\n",
            "Epoch 89/100\n",
            "\n",
            "Epoch 00089: val_loss did not improve from 0.52100\n",
            "200/200 - 0s - loss: 0.1521 - acc: 0.9700 - val_loss: 0.6281 - val_acc: 0.7471\n",
            "Epoch 90/100\n",
            "\n",
            "Epoch 00090: val_loss did not improve from 0.52100\n",
            "200/200 - 0s - loss: 0.1203 - acc: 0.9800 - val_loss: 0.7083 - val_acc: 0.7586\n",
            "Epoch 91/100\n",
            "\n",
            "Epoch 00091: val_loss did not improve from 0.52100\n",
            "200/200 - 0s - loss: 0.1027 - acc: 0.9850 - val_loss: 0.7069 - val_acc: 0.7586\n",
            "Epoch 92/100\n",
            "\n",
            "Epoch 00092: val_loss did not improve from 0.52100\n",
            "200/200 - 0s - loss: 0.1534 - acc: 0.9400 - val_loss: 0.5637 - val_acc: 0.7701\n",
            "Epoch 93/100\n",
            "\n",
            "Epoch 00093: val_loss did not improve from 0.52100\n",
            "200/200 - 0s - loss: 0.1296 - acc: 0.9750 - val_loss: 0.6504 - val_acc: 0.7356\n",
            "Epoch 94/100\n",
            "\n",
            "Epoch 00094: val_loss did not improve from 0.52100\n",
            "200/200 - 0s - loss: 0.1022 - acc: 0.9850 - val_loss: 0.6499 - val_acc: 0.7356\n",
            "Epoch 95/100\n",
            "\n",
            "Epoch 00095: val_loss did not improve from 0.52100\n",
            "200/200 - 0s - loss: 0.1296 - acc: 0.9650 - val_loss: 0.6676 - val_acc: 0.7126\n",
            "Epoch 96/100\n",
            "\n",
            "Epoch 00096: val_loss did not improve from 0.52100\n",
            "200/200 - 0s - loss: 0.1492 - acc: 0.9700 - val_loss: 0.6884 - val_acc: 0.7356\n",
            "Epoch 97/100\n",
            "\n",
            "Epoch 00097: val_loss did not improve from 0.52100\n",
            "200/200 - 0s - loss: 0.1226 - acc: 0.9800 - val_loss: 0.7454 - val_acc: 0.6897\n",
            "Epoch 98/100\n",
            "\n",
            "Epoch 00098: val_loss did not improve from 0.52100\n",
            "200/200 - 0s - loss: 0.1528 - acc: 0.9550 - val_loss: 0.6318 - val_acc: 0.7356\n",
            "Epoch 99/100\n",
            "\n",
            "Epoch 00099: val_loss did not improve from 0.52100\n",
            "200/200 - 0s - loss: 0.1858 - acc: 0.9250 - val_loss: 0.6266 - val_acc: 0.7586\n",
            "Epoch 100/100\n",
            "\n",
            "Epoch 00100: val_loss did not improve from 0.52100\n",
            "200/200 - 0s - loss: 0.1277 - acc: 0.9750 - val_loss: 0.7267 - val_acc: 0.7471\n"
          ],
          "name": "stdout"
        }
      ]
    },
    {
      "cell_type": "code",
      "metadata": {
        "id": "f4aC5kY7lhys",
        "colab_type": "code",
        "outputId": "54e36964-68aa-4a02-81ba-b7eee1f69d78",
        "colab": {
          "base_uri": "https://localhost:8080/",
          "height": 295
        }
      },
      "source": [
        "# Plot training & validation accuracy values\n",
        "plt.plot(history.history['acc'])\n",
        "plt.plot(history.history['val_acc'])\n",
        "plt.title('Model accuracy')\n",
        "plt.ylabel('Accuracy')\n",
        "plt.xlabel('Epoch')\n",
        "plt.legend(['Train', 'Test'], loc='upper left')\n",
        "plt.show()"
      ],
      "execution_count": 16,
      "outputs": [
        {
          "output_type": "display_data",
          "data": {
            "image/png": "[encoded data removed]",
            "text/plain": [
              "<Figure size 432x288 with 1 Axes>"
            ]
          },
          "metadata": {
            "tags": []
          }
        }
      ]
    }
  ]
}