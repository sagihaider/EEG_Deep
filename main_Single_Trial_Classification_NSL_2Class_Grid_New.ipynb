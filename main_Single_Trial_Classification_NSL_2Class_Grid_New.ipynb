{
  "nbformat": 4,
  "nbformat_minor": 0,
  "metadata": {
    "colab": {
      "name": "main_Single_Trial_Classification_NSL_2Class_Grid_New",
      "provenance": [],
      "collapsed_sections": [],
      "machine_shape": "hm",
      "include_colab_link": true
    },
    "kernelspec": {
      "name": "python3",
      "display_name": "Python 3"
    },
    "accelerator": "GPU"
  },
  "cells": [
    {
      "cell_type": "markdown",
      "metadata": {
        "id": "view-in-github",
        "colab_type": "text"
      },
      "source": [
        "<a href=\"https://colab.research.google.com/github/sagihaider/EEG_Deep/blob/master/main_Single_Trial_Classification_NSL_2Class_Grid_New.ipynb\" target=\"_parent\"><img src=\"https://colab.research.google.com/assets/colab-badge.svg\" alt=\"Open In Colab\"/></a>"
      ]
    },
    {
      "cell_type": "code",
      "metadata": {
        "id": "X110PE9MjrlE",
        "colab_type": "code",
        "outputId": "215f08e4-1dce-431a-fa9d-40b1407e1003",
        "colab": {
          "base_uri": "https://localhost:8080/",
          "height": 35
        }
      },
      "source": [
        "!git clone https://github.com/sagihaider/EEG_Deep.git"
      ],
      "execution_count": 10,
      "outputs": [
        {
          "output_type": "stream",
          "text": [
            "fatal: destination path 'EEG_Deep' already exists and is not an empty directory.\n"
          ],
          "name": "stdout"
        }
      ]
    },
    {
      "cell_type": "code",
      "metadata": {
        "id": "ioLzMoiS60Qf",
        "colab_type": "code",
        "outputId": "043fec4e-4ea8-4414-a36c-c84f0f7f24de",
        "colab": {
          "base_uri": "https://localhost:8080/",
          "height": 126
        }
      },
      "source": [
        "import scipy.io as spio\n",
        "from google.colab import files\n",
        "import numpy as np\n",
        "import pandas as pd\n",
        "import time\n",
        "from importlib.machinery import SourceFileLoader\n",
        "\n",
        "# EEGNet-specific imports\n",
        "from EEG_Deep.EEGModels import EEGNet, ShallowConvNet, DeepConvNet, EEGNet_Patient\n",
        "from tensorflow.keras import utils as np_utils\n",
        "from tensorflow.keras.callbacks import ModelCheckpoint\n",
        "from tensorflow.keras import backend as K\n",
        "K.set_image_data_format('channels_first')\n",
        "\n",
        "from sklearn.pipeline import make_pipeline\n",
        "from sklearn.linear_model import LogisticRegression\n",
        "\n",
        "# tools for plotting confusion matrices\n",
        "from matplotlib import pyplot as plt\n",
        "from scipy.signal import butter, lfilter\n",
        "\n",
        "!pip install neural_structured_learning\n",
        "import tensorflow as tf\n",
        "import neural_structured_learning as nsl"
      ],
      "execution_count": 11,
      "outputs": [
        {
          "output_type": "stream",
          "text": [
            "Requirement already satisfied: neural_structured_learning in /usr/local/lib/python3.6/dist-packages (1.1.0)\n",
            "Requirement already satisfied: attrs in /usr/local/lib/python3.6/dist-packages (from neural_structured_learning) (19.3.0)\n",
            "Requirement already satisfied: absl-py in /usr/local/lib/python3.6/dist-packages (from neural_structured_learning) (0.9.0)\n",
            "Requirement already satisfied: six in /usr/local/lib/python3.6/dist-packages (from neural_structured_learning) (1.12.0)\n",
            "Requirement already satisfied: scipy in /usr/local/lib/python3.6/dist-packages (from neural_structured_learning) (1.4.1)\n",
            "Requirement already satisfied: numpy>=1.13.3 in /usr/local/lib/python3.6/dist-packages (from scipy->neural_structured_learning) (1.17.5)\n"
          ],
          "name": "stdout"
        }
      ]
    },
    {
      "cell_type": "code",
      "metadata": {
        "id": "Mo80Jg_Pn5lP",
        "colab_type": "code",
        "colab": {}
      },
      "source": [
        "# Band-pass Filter\n",
        "def butter_bandpass_filter(data, lowcut, highcut, fs, order=4):\n",
        "    nyq = 0.5 * fs\n",
        "    low = lowcut / nyq\n",
        "    high = highcut / nyq\n",
        "    b, a = butter(order, [low, high], btype='band')\n",
        "    y = lfilter(b, a, data)\n",
        "    return y\n"
      ],
      "execution_count": 0,
      "outputs": []
    },
    {
      "cell_type": "code",
      "metadata": {
        "id": "sZEFV-Aiu88P",
        "colab_type": "code",
        "outputId": "afba16d7-4fd7-4926-ddde-978500693f54",
        "colab": {
          "base_uri": "https://localhost:8080/",
          "height": 345
        }
      },
      "source": [
        "from numpy import zeros\n",
        "K.clear_session()\n",
        "\n",
        "# Initialize parameter\n",
        "h_cut = [24]\n",
        "drop_out = [0.25,0.5]\n",
        "k_len = [128] #[32, 64, 128]\n",
        "n_epochs = 100\n",
        "\n",
        "out_f_name = 'acc_NSL_EEGNet' + '_epochs_' + str(n_epochs) + '_filter_' + str(h_cut) +'_EEGNet_NSL_ReniData.npy'\n",
        "print(out_f_name)\n",
        "\n",
        "nsub = 14\n",
        "nfilt = len(h_cut)\n",
        "ndrop = len(drop_out)\n",
        "nkl = len(k_len)\n",
        "loss_score = zeros([nsub, nfilt,ndrop,nkl])\n",
        "categorical_crossentropy_score = zeros([nsub, nfilt,ndrop,nkl])\n",
        "categorical_accuracy = zeros([nsub, nfilt,ndrop,nkl])\n",
        "\n",
        "X_tr = np.empty([100, 15, 4096])\n",
        "X_ts = np.empty([60, 15, 4096])\n",
        "\n",
        "\n",
        "for sub_idx, x in enumerate(range(1,2)):\n",
        "    for h_indx, h in enumerate(h_cut):\n",
        "        fName = 'EEG_Deep/Data2A/Eopched_S0' + str(x) + 'T.mat'  # Load Data\n",
        "        print(fName)\n",
        "        mat = spio.loadmat(fName)\n",
        "        r_X_tr = mat['cleanRawEEGData']\n",
        "        y_tr = mat['cleanClassLabels']\n",
        "        y_tr = y_tr.flatten() \n",
        "  \n",
        "        print(np.shape(r_X_tr))\n",
        "        print(np.shape(y_tr))\n",
        "\n",
        "        for t in range(r_X_tr.shape[0]):\n",
        "          tril = r_X_tr[t,:,:]\n",
        "          # tril = tril.transpose()\n",
        "          tril_filtered = butter_bandpass_filter(tril, lowcut=4, highcut=h, fs=250, order=4)\n",
        "          # tril_filtered = tril_filtered.transpose()\n",
        "          X_tr[t,:,:] = tril_filtered \n",
        "    \n",
        "        # split data of each subject in training and validation\n",
        "        X_train      = X_tr[0:80,:,1536:3072]\n",
        "        Y_train      = y_tr[0:80]\n",
        "        X_val       = X_tr[80:,:,1536:3072]\n",
        "        Y_val       = y_tr[80:]\n",
        "\n",
        "        print(np.shape(X_train))\n",
        "        print(np.shape(Y_train))\n",
        "        print(np.shape(X_val))\n",
        "        print(np.shape(Y_val))\n",
        "  \n",
        "        # convert labels to one-hot encodings.\n",
        "        Y_train      = np_utils.to_categorical(Y_train-1)\n",
        "        Y_val       = np_utils.to_categorical(Y_val-1)\n",
        "\n",
        "        kernels, chans, samples = 1, 15, 1536\n",
        "        # convert data to NCHW (trials, kernels, channels, samples) format. Data \n",
        "        # contains 22 channels and 500 time-points. Set the number of kernels to 1.\n",
        "        X_train      = X_train.reshape(X_train.shape[0], kernels, chans, samples)\n",
        "        X_val       = X_val.reshape(X_val.shape[0], kernels, chans, samples)\n",
        "   \n",
        "        print('X_train shape:', X_train.shape)\n",
        "        print(X_train.shape[0], 'train samples')\n",
        "        print(X_val.shape[0], 'val samples')\n",
        "\n",
        "        fName = 'EEG_Deep/Data2A/Eopched_S0' + str(x) + 'E.mat'  # Load Data\n",
        "        print(fName)\n",
        "        mat = spio.loadmat(fName)\n",
        "        r_X_ts = mat['cleanRawEEGData']\n",
        "        y_ts = mat['cleanClassLabels']\n",
        "        y_ts = y_ts.flatten() \n",
        "\n",
        "        print(np.shape(r_X_ts))\n",
        "        print(np.shape(y_ts))\n",
        "\n",
        "        for t in range(r_X_ts.shape[0]):\n",
        "          tril = r_X_ts[t,:,:]\n",
        "          # tril = tril.transpose()\n",
        "          tril_filtered = butter_bandpass_filter(tril, lowcut=4, highcut=h, fs=250, order=4)\n",
        "          # tril_filtered = tril_filtered.transpose()\n",
        "          X_ts[t,:,:] = tril_filtered \n",
        "\n",
        "        X_test      = X_ts[:,:,1536:3072]\n",
        "        Y_test      = y_ts[:]\n",
        "        print(np.shape(X_test))\n",
        "        print(np.shape(Y_test))\n",
        "\n",
        "        #convert labels to one-hot encodings.\n",
        "        Y_test      = np_utils.to_categorical(Y_test-1)\n",
        "\n",
        "        # convert data to NCHW (trials, kernels, channels, samples) format. Data \n",
        "        # contains 22 channels and 500 time-points. Set the number of kernels to 1.\n",
        "        X_test      = X_test.reshape(X_test.shape[0], kernels, chans, samples)\n",
        "\n",
        "        print('X_train shape:', X_test.shape)\n",
        "        print(X_test.shape[0], 'test samples')\n",
        "\n",
        "        for id_d, d in enumerate(drop_out):\n",
        "            for id_kl, kl in enumerate(k_len):\n",
        "                print(id_kl, id_d)\n",
        "                # configure the EEGNet-8,2,16 model with kernel length of 32 samples (other \n",
        "                # model configurations may do better, but this is a good starting point)\n",
        "                model = EEGNet(nb_classes = 2, Chans = 15, Samples = 1536, dropoutRate = d, \n",
        "                                kernLength = kl, F1 = 8, D = 2, F2 = 16, norm_rate = 0.25, \n",
        "                                dropoutType = 'Dropout')\n",
        "\n",
        "                adv_config = nsl.configs.make_adv_reg_config(multiplier=0.2, adv_step_size=0.5, adv_grad_norm='infinity')\n",
        "                adv_model = nsl.keras.AdversarialRegularization(model, adv_config=adv_config)\n",
        "  \n",
        "                # compile the model and set the optimizers\n",
        "                adv_model.compile(loss='categorical_crossentropy', optimizer='adam', metrics = ['accuracy'])\n",
        "                batch_size = 32\n",
        "\n",
        "                X_train = tf.cast(X_train, tf.float32)\n",
        "                X_test = tf.cast(X_test, tf.float32)\n",
        "                X_val = tf.cast(X_val, tf.float32)\n",
        "\n",
        "                train_data = tf.data.Dataset.from_tensor_slices({'input': X_train, 'label': Y_train}).batch(batch_size)\n",
        "                val_data = tf.data.Dataset.from_tensor_slices({'input': X_val, 'label': Y_val}).batch(batch_size)\n",
        "                test_data = tf.data.Dataset.from_tensor_slices({'input': X_test, 'label': Y_test}).batch(batch_size)\n",
        "\n",
        "                val_steps = X_val.shape[0] // batch_size\n",
        "  \n",
        "                history = adv_model.fit(train_data, validation_data=val_data, validation_steps=None, \n",
        "                                        epochs=n_epochs, verbose=1)\n",
        "\n",
        "                print('\\n# Evaluate on test data')\n",
        "                results = adv_model.evaluate(test_data)\n",
        "                print('test loss, test acc:', results)\n",
        "\n",
        "                loss_score[sub_idx,h_indx,id_d, id_kl] = results[0]\n",
        "                categorical_crossentropy_score[sub_idx,h_indx,id_d, id_kl] = results[1]\n",
        "                categorical_accuracy[sub_idx,h_indx,id_d, id_kl] = results[2]\n",
        "\n",
        "                from keras import backend as K \n",
        "                K.clear_session()\n",
        "\n",
        "np.save(out_f_name, loss_score, categorical_crossentropy_score, categorical_accuracy)\n"
      ],
      "execution_count": 15,
      "outputs": [
        {
          "output_type": "stream",
          "text": [
            "acc_NSL_EEGNet_epochs_100_filter_[24]_EEGNet_NSL_ReniData.npy\n",
            "EEG_Deep/Data2A/Eopched_S01T.mat\n",
            "(100, 15, 4096)\n",
            "(100,)\n",
            "(80, 15, 1536)\n",
            "(80,)\n",
            "(20, 15, 1536)\n",
            "(20,)\n",
            "X_train shape: (80, 1, 15, 1536)\n",
            "80 train samples\n",
            "20 val samples\n",
            "EEG_Deep/Data2A/Eopched_S01E.mat\n",
            "(60, 15, 4096)\n",
            "(60,)\n",
            "(60, 15, 1536)\n",
            "(60,)\n",
            "X_train shape: (60, 1, 15, 1536)\n",
            "60 test samples\n"
          ],
          "name": "stdout"
        }
      ]
    }
  ]
}