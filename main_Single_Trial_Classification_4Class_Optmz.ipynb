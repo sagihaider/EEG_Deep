{
  "nbformat": 4,
  "nbformat_minor": 0,
  "metadata": {
    "colab": {
      "name": "main_Single_Trial_Classification_4Class_Optmz.ipynb",
      "provenance": [],
      "collapsed_sections": [],
      "include_colab_link": true
    },
    "kernelspec": {
      "name": "python3",
      "display_name": "Python 3"
    },
    "accelerator": "GPU"
  },
  "cells": [
    {
      "cell_type": "markdown",
      "metadata": {
        "id": "view-in-github",
        "colab_type": "text"
      },
      "source": [
        "<a href=\"https://colab.research.google.com/github/sagihaider/EEG_Deep/blob/master/main_Single_Trial_Classification_4Class_Optmz.ipynb\" target=\"_parent\"><img src=\"https://colab.research.google.com/assets/colab-badge.svg\" alt=\"Open In Colab\"/></a>"
      ]
    },
    {
      "cell_type": "code",
      "metadata": {
        "id": "X110PE9MjrlE",
        "colab_type": "code",
        "outputId": "9e825c0c-429b-4f48-8f7e-87a62560383c",
        "colab": {
          "base_uri": "https://localhost:8080/",
          "height": 163
        }
      },
      "source": [
        "!git clone https://github.com/sagihaider/EEG_Deep.git"
      ],
      "execution_count": 0,
      "outputs": [
        {
          "output_type": "stream",
          "text": [
            "Cloning into 'EEG_Deep'...\n",
            "remote: Enumerating objects: 64, done.\u001b[K\n",
            "remote: Counting objects: 100% (64/64), done.\u001b[K\n",
            "remote: Compressing objects: 100% (62/62), done.\u001b[K\n",
            "remote: Total 117 (delta 27), reused 6 (delta 2), pack-reused 53\u001b[K\n",
            "Receiving objects: 100% (117/117), 600.02 MiB | 15.36 MiB/s, done.\n",
            "Resolving deltas: 100% (41/41), done.\n",
            "Checking out files: 100% (33/33), done.\n"
          ],
          "name": "stdout"
        }
      ]
    },
    {
      "cell_type": "code",
      "metadata": {
        "id": "ioLzMoiS60Qf",
        "colab_type": "code",
        "outputId": "3d7e9a6f-babf-4f40-f492-3b1dcfe8a784",
        "colab": {
          "base_uri": "https://localhost:8080/",
          "height": 65
        }
      },
      "source": [
        "import scipy.io as spio\n",
        "import numpy as np\n",
        "from importlib.machinery import SourceFileLoader\n",
        "\n",
        "# EEGNet-specific imports\n",
        "from EEG_Deep.EEGModelsHR import EEGNet, ShallowConvNet, DeepConvNet\n",
        "from tensorflow.keras import utils as np_utils\n",
        "from tensorflow.keras.callbacks import ModelCheckpoint\n",
        "from tensorflow.keras import backend as K\n",
        "K.set_image_data_format('channels_first')\n",
        "\n",
        "from sklearn.pipeline import make_pipeline\n",
        "from sklearn.linear_model import LogisticRegression\n",
        "\n",
        "# tools for plotting confusion matrices\n",
        "from matplotlib import pyplot as plt"
      ],
      "execution_count": 0,
      "outputs": [
        {
          "output_type": "display_data",
          "data": {
            "text/html": [
              "<p style=\"color: red;\">\n",
              "The default version of TensorFlow in Colab will soon switch to TensorFlow 2.x.<br>\n",
              "We recommend you <a href=\"https://www.tensorflow.org/guide/migrate\" target=\"_blank\">upgrade</a> now \n",
              "or ensure your notebook will continue to use TensorFlow 1.x via the <code>%tensorflow_version 1.x</code> magic:\n",
              "<a href=\"https://colab.research.google.com/notebooks/tensorflow_version.ipynb\" target=\"_blank\">more info</a>.</p>\n"
            ],
            "text/plain": [
              "<IPython.core.display.HTML object>"
            ]
          },
          "metadata": {
            "tags": []
          }
        }
      ]
    },
    {
      "cell_type": "code",
      "metadata": {
        "id": "ZjtnE_6RSpum",
        "colab_type": "code",
        "outputId": "423ae0e2-16af-4151-ee0a-209a3653ca86",
        "colab": {
          "base_uri": "https://localhost:8080/",
          "height": 35
        }
      },
      "source": [
        "x= 1         \n",
        "fName = 'EEG_Deep/Data2A/Data_A0' + str(x) + 'T.mat'  # Load Data\n",
        "print(fName)\n",
        "mat = spio.loadmat(fName)\n",
        "X_tr = mat['cleanRawEEGData']\n",
        "y_tr = mat['cleanClassLabels']"
      ],
      "execution_count": 0,
      "outputs": [
        {
          "output_type": "stream",
          "text": [
            "EEG_Deep/Data2A/Data_A01T.mat\n"
          ],
          "name": "stdout"
        }
      ]
    },
    {
      "cell_type": "code",
      "metadata": {
        "id": "3c11RQCoS80S",
        "colab_type": "code",
        "outputId": "99c3743b-72ee-4755-916c-e4f5897c35b1",
        "colab": {
          "base_uri": "https://localhost:8080/",
          "height": 54
        }
      },
      "source": [
        "print(np.shape(X_tr))\n",
        "print(np.shape(y_tr))"
      ],
      "execution_count": 0,
      "outputs": [
        {
          "output_type": "stream",
          "text": [
            "(288, 22, 1875)\n",
            "(288, 1)\n"
          ],
          "name": "stdout"
        }
      ]
    },
    {
      "cell_type": "code",
      "metadata": {
        "id": "tgWnQSY5T4op",
        "colab_type": "code",
        "outputId": "144f1b19-683f-42a9-fb2b-bd75d2b21e03",
        "colab": {
          "base_uri": "https://localhost:8080/",
          "height": 90
        }
      },
      "source": [
        "\n",
        "# take 50/25/25 percent of the data to train/validate/test\n",
        "X_train      = X_tr[0:240,:,500:1250]\n",
        "Y_train      = y_tr[0:240]\n",
        "#X_validate   = X[151:200,:,500:1250]\n",
        "#Y_validate   = y[151:200]\n",
        "X_val       = X_tr[241:,:,500:1250]\n",
        "Y_val       = y_tr[241:]\n",
        "\n",
        "print(np.shape(X_train))\n",
        "print(np.shape(Y_train))\n",
        "# print(np.shape(X_validate))\n",
        "# print(np.shape(Y_validate))\n",
        "print(np.shape(X_val))\n",
        "print(np.shape(Y_val))"
      ],
      "execution_count": 0,
      "outputs": [
        {
          "output_type": "stream",
          "text": [
            "(240, 22, 750)\n",
            "(240, 1)\n",
            "(47, 22, 750)\n",
            "(47, 1)\n"
          ],
          "name": "stdout"
        }
      ]
    },
    {
      "cell_type": "code",
      "metadata": {
        "id": "bfC8z4I-UnF6",
        "colab_type": "code",
        "colab": {}
      },
      "source": [
        "\n",
        "# convert labels to one-hot encodings.\n",
        "Y_train      = np_utils.to_categorical(Y_train-1)\n",
        "# Y_validate   = np_utils.to_categorical(Y_validate-1)\n",
        "Y_val       = np_utils.to_categorical(Y_val-1)"
      ],
      "execution_count": 0,
      "outputs": []
    },
    {
      "cell_type": "code",
      "metadata": {
        "id": "NqmsOU1BXOZJ",
        "colab_type": "code",
        "outputId": "94f8bc37-489c-4cd7-ebe9-e6987715552d",
        "colab": {
          "base_uri": "https://localhost:8080/",
          "height": 72
        }
      },
      "source": [
        "kernels, chans, samples = 1, 22, 750\n",
        "# convert data to NCHW (trials, kernels, channels, samples) format. Data \n",
        "# contains 22 channels and 500 time-points. Set the number of kernels to 1.\n",
        "X_train      = X_train.reshape(X_train.shape[0], kernels, chans, samples)\n",
        "X_val       = X_val.reshape(X_val.shape[0], kernels, chans, samples)\n",
        "   \n",
        "print('X_train shape:', X_train.shape)\n",
        "print(X_train.shape[0], 'train samples')\n",
        "print(X_val.shape[0], 'val samples')"
      ],
      "execution_count": 0,
      "outputs": [
        {
          "output_type": "stream",
          "text": [
            "X_train shape: (240, 1, 22, 750)\n",
            "240 train samples\n",
            "47 val samples\n"
          ],
          "name": "stdout"
        }
      ]
    },
    {
      "cell_type": "code",
      "metadata": {
        "id": "jvVfScxP1juN",
        "colab_type": "code",
        "outputId": "03bfdd64-d5f9-4210-9fa3-3e77d6284748",
        "colab": {
          "base_uri": "https://localhost:8080/",
          "height": 35
        }
      },
      "source": [
        "# Load test data\n",
        "x= 1         \n",
        "fName = 'EEG_Deep/Data2A/Data_A0' + str(x) + 'E.mat'  # Load Data\n",
        "print(fName)\n",
        "mat = spio.loadmat(fName)\n",
        "X_ts = mat['cleanRawEEGData']\n",
        "y_ts = mat['cleanClassLabels']"
      ],
      "execution_count": 0,
      "outputs": [
        {
          "output_type": "stream",
          "text": [
            "EEG_Deep/Data2A/Data_A01E.mat\n"
          ],
          "name": "stdout"
        }
      ]
    },
    {
      "cell_type": "code",
      "metadata": {
        "id": "XdP4eTcM1wN3",
        "colab_type": "code",
        "outputId": "ee924ec6-8116-4df6-a5ee-4f5022d3f208",
        "colab": {
          "base_uri": "https://localhost:8080/",
          "height": 90
        }
      },
      "source": [
        "print(np.shape(X_ts))\n",
        "print(np.shape(y_ts))\n",
        "\n",
        "# take 50/25/25 percent of the data to train/validate/test\n",
        "X_test      = X_ts[:,:,500:1250]\n",
        "Y_test      = y_ts[:]\n",
        "print(np.shape(X_test))\n",
        "print(np.shape(Y_test))"
      ],
      "execution_count": 0,
      "outputs": [
        {
          "output_type": "stream",
          "text": [
            "(288, 22, 1875)\n",
            "(288, 1)\n",
            "(288, 22, 750)\n",
            "(288, 1)\n"
          ],
          "name": "stdout"
        }
      ]
    },
    {
      "cell_type": "code",
      "metadata": {
        "id": "9vVDMLZp2uX6",
        "colab_type": "code",
        "outputId": "1b0e2802-8a8f-49a1-ec7f-95018e5aabfd",
        "colab": {
          "base_uri": "https://localhost:8080/",
          "height": 54
        }
      },
      "source": [
        "\n",
        "#convert labels to one-hot encodings.\n",
        "Y_test      = np_utils.to_categorical(Y_test-1)\n",
        "\n",
        "kernels, chans, samples = 1, 22, 750\n",
        "# convert data to NCHW (trials, kernels, channels, samples) format. Data \n",
        "# contains 22 channels and 500 time-points. Set the number of kernels to 1.\n",
        "X_test      = X_test.reshape(X_test.shape[0], kernels, chans, samples)\n",
        "\n",
        "   \n",
        "print('X_train shape:', X_test.shape)\n",
        "print(X_test.shape[0], 'train samples')\n"
      ],
      "execution_count": 0,
      "outputs": [
        {
          "output_type": "stream",
          "text": [
            "X_train shape: (288, 1, 22, 750)\n",
            "288 train samples\n"
          ],
          "name": "stdout"
        }
      ]
    },
    {
      "cell_type": "code",
      "metadata": {
        "id": "rUlJdZk_X1OY",
        "colab_type": "code",
        "outputId": "be62012b-5363-40b5-d2e6-687d9206f5f1",
        "colab": {
          "base_uri": "https://localhost:8080/",
          "height": 855
        }
      },
      "source": [
        "# configure the EEGNet-8,2,16 model with kernel length of 32 samples (other \n",
        "# model configurations may do better, but this is a good starting point)\n",
        "model = EEGNet(nb_classes = 4, Chans = 22, Samples = 750, \n",
        "             dropoutRate = 0.5, kernLength = 25, F1 = 8, \n",
        "             D = 2, F2 = 16, norm_rate = 0.25, dropoutType = 'Dropout')\n",
        "model.summary()\n",
        "\n",
        "# compile the model and set the optimizers\n",
        "model.compile(loss='categorical_crossentropy', optimizer='adam', \n",
        "              metrics = ['accuracy'])\n",
        "\n",
        "# count number of parameters in the model\n",
        "numParams    = model.count_params() \n",
        "\n",
        "# set a valid path for your system to record model checkpoints\n",
        "checkpointer = ModelCheckpoint(filepath='/tmp/checkpoint.h5', verbose=1,\n",
        "                               save_best_only=True)"
      ],
      "execution_count": 0,
      "outputs": [
        {
          "output_type": "stream",
          "text": [
            "WARNING:tensorflow:From /usr/local/lib/python3.6/dist-packages/tensorflow_core/python/ops/resource_variable_ops.py:1630: calling BaseResourceVariable.__init__ (from tensorflow.python.ops.resource_variable_ops) with constraint is deprecated and will be removed in a future version.\n",
            "Instructions for updating:\n",
            "If using Keras pass *_constraint arguments to layers.\n",
            "Model: \"model\"\n",
            "_________________________________________________________________\n",
            "Layer (type)                 Output Shape              Param #   \n",
            "=================================================================\n",
            "input_1 (InputLayer)         [(None, 1, 22, 750)]      0         \n",
            "_________________________________________________________________\n",
            "conv2d (Conv2D)              (None, 8, 22, 750)        200       \n",
            "_________________________________________________________________\n",
            "batch_normalization (BatchNo (None, 8, 22, 750)        32        \n",
            "_________________________________________________________________\n",
            "depthwise_conv2d (DepthwiseC (None, 16, 1, 750)        352       \n",
            "_________________________________________________________________\n",
            "batch_normalization_1 (Batch (None, 16, 1, 750)        64        \n",
            "_________________________________________________________________\n",
            "activation (Activation)      (None, 16, 1, 750)        0         \n",
            "_________________________________________________________________\n",
            "average_pooling2d (AveragePo (None, 16, 1, 187)        0         \n",
            "_________________________________________________________________\n",
            "dropout (Dropout)            (None, 16, 1, 187)        0         \n",
            "_________________________________________________________________\n",
            "separable_conv2d (SeparableC (None, 16, 1, 187)        512       \n",
            "_________________________________________________________________\n",
            "batch_normalization_2 (Batch (None, 16, 1, 187)        64        \n",
            "_________________________________________________________________\n",
            "activation_1 (Activation)    (None, 16, 1, 187)        0         \n",
            "_________________________________________________________________\n",
            "average_pooling2d_1 (Average (None, 16, 1, 23)         0         \n",
            "_________________________________________________________________\n",
            "dropout_1 (Dropout)          (None, 16, 1, 23)         0         \n",
            "_________________________________________________________________\n",
            "flatten (Flatten)            (None, 368)               0         \n",
            "_________________________________________________________________\n",
            "dense (Dense)                (None, 64)                23616     \n",
            "_________________________________________________________________\n",
            "dense1 (Dense)               (None, 4)                 260       \n",
            "_________________________________________________________________\n",
            "softmax (Activation)         (None, 4)                 0         \n",
            "=================================================================\n",
            "Total params: 25,100\n",
            "Trainable params: 25,020\n",
            "Non-trainable params: 80\n",
            "_________________________________________________________________\n"
          ],
          "name": "stdout"
        }
      ]
    },
    {
      "cell_type": "code",
      "metadata": {
        "id": "CwvCZhYUfIx9",
        "colab_type": "code",
        "outputId": "89d123ff-3575-4d92-b5da-ba05ff21d98f",
        "colab": {
          "base_uri": "https://localhost:8080/",
          "height": 1000
        }
      },
      "source": [
        "# the syntax is {class_1:weight_1, class_2:weight_2,...}. Here just setting\n",
        "# the weights all to be 1\n",
        "class_weights = {0:1, 1:1, 2:1, 3:1}\n",
        "\n",
        "################################################################################\n",
        "# fit the model. Due to very small sample sizes this can get\n",
        "# pretty noisy run-to-run, but most runs should be comparable to xDAWN + \n",
        "# Riemannian geometry classification (below)\n",
        "################################################################################\n",
        "history = model.fit(X_train, Y_train, batch_size = 16, epochs = 100, \n",
        "                        verbose = 2, validation_data=(X_val, Y_val),\n",
        "                        callbacks=[checkpointer], class_weight = class_weights)"
      ],
      "execution_count": 0,
      "outputs": [
        {
          "output_type": "stream",
          "text": [
            "Train on 240 samples, validate on 47 samples\n",
            "Epoch 1/100\n",
            "\n",
            "Epoch 00001: val_loss improved from inf to 1.37843, saving model to /tmp/checkpoint.h5\n",
            "240/240 - 4s - loss: 1.4070 - acc: 0.2708 - val_loss: 1.3784 - val_acc: 0.3404\n",
            "Epoch 2/100\n",
            "\n",
            "Epoch 00002: val_loss improved from 1.37843 to 1.36857, saving model to /tmp/checkpoint.h5\n",
            "240/240 - 0s - loss: 1.3544 - acc: 0.3458 - val_loss: 1.3686 - val_acc: 0.2979\n",
            "Epoch 3/100\n",
            "\n",
            "Epoch 00003: val_loss improved from 1.36857 to 1.35139, saving model to /tmp/checkpoint.h5\n",
            "240/240 - 0s - loss: 1.3197 - acc: 0.4125 - val_loss: 1.3514 - val_acc: 0.4043\n",
            "Epoch 4/100\n",
            "\n",
            "Epoch 00004: val_loss improved from 1.35139 to 1.33083, saving model to /tmp/checkpoint.h5\n",
            "240/240 - 0s - loss: 1.2808 - acc: 0.5083 - val_loss: 1.3308 - val_acc: 0.3617\n",
            "Epoch 5/100\n",
            "\n",
            "Epoch 00005: val_loss improved from 1.33083 to 1.31723, saving model to /tmp/checkpoint.h5\n",
            "240/240 - 0s - loss: 1.2517 - acc: 0.4875 - val_loss: 1.3172 - val_acc: 0.4468\n",
            "Epoch 6/100\n",
            "\n",
            "Epoch 00006: val_loss improved from 1.31723 to 1.29167, saving model to /tmp/checkpoint.h5\n",
            "240/240 - 0s - loss: 1.2098 - acc: 0.5583 - val_loss: 1.2917 - val_acc: 0.4681\n",
            "Epoch 7/100\n",
            "\n",
            "Epoch 00007: val_loss improved from 1.29167 to 1.27924, saving model to /tmp/checkpoint.h5\n",
            "240/240 - 0s - loss: 1.1867 - acc: 0.5375 - val_loss: 1.2792 - val_acc: 0.4255\n",
            "Epoch 8/100\n",
            "\n",
            "Epoch 00008: val_loss improved from 1.27924 to 1.25395, saving model to /tmp/checkpoint.h5\n",
            "240/240 - 0s - loss: 1.1556 - acc: 0.5625 - val_loss: 1.2539 - val_acc: 0.4255\n",
            "Epoch 9/100\n",
            "\n",
            "Epoch 00009: val_loss improved from 1.25395 to 1.23838, saving model to /tmp/checkpoint.h5\n",
            "240/240 - 0s - loss: 1.1216 - acc: 0.5750 - val_loss: 1.2384 - val_acc: 0.4043\n",
            "Epoch 10/100\n",
            "\n",
            "Epoch 00010: val_loss improved from 1.23838 to 1.20940, saving model to /tmp/checkpoint.h5\n",
            "240/240 - 0s - loss: 1.0544 - acc: 0.6625 - val_loss: 1.2094 - val_acc: 0.4468\n",
            "Epoch 11/100\n",
            "\n",
            "Epoch 00011: val_loss improved from 1.20940 to 1.20313, saving model to /tmp/checkpoint.h5\n",
            "240/240 - 0s - loss: 1.0403 - acc: 0.6208 - val_loss: 1.2031 - val_acc: 0.4043\n",
            "Epoch 12/100\n",
            "\n",
            "Epoch 00012: val_loss improved from 1.20313 to 1.18049, saving model to /tmp/checkpoint.h5\n",
            "240/240 - 0s - loss: 0.9983 - acc: 0.6875 - val_loss: 1.1805 - val_acc: 0.4468\n",
            "Epoch 13/100\n",
            "\n",
            "Epoch 00013: val_loss improved from 1.18049 to 1.17454, saving model to /tmp/checkpoint.h5\n",
            "240/240 - 0s - loss: 0.9913 - acc: 0.6458 - val_loss: 1.1745 - val_acc: 0.4468\n",
            "Epoch 14/100\n",
            "\n",
            "Epoch 00014: val_loss improved from 1.17454 to 1.15577, saving model to /tmp/checkpoint.h5\n",
            "240/240 - 0s - loss: 0.9349 - acc: 0.7208 - val_loss: 1.1558 - val_acc: 0.4468\n",
            "Epoch 15/100\n",
            "\n",
            "Epoch 00015: val_loss did not improve from 1.15577\n",
            "240/240 - 0s - loss: 0.9119 - acc: 0.7250 - val_loss: 1.1594 - val_acc: 0.4681\n",
            "Epoch 16/100\n",
            "\n",
            "Epoch 00016: val_loss improved from 1.15577 to 1.12966, saving model to /tmp/checkpoint.h5\n",
            "240/240 - 0s - loss: 0.9182 - acc: 0.7083 - val_loss: 1.1297 - val_acc: 0.4894\n",
            "Epoch 17/100\n",
            "\n",
            "Epoch 00017: val_loss did not improve from 1.12966\n",
            "240/240 - 0s - loss: 0.9016 - acc: 0.7083 - val_loss: 1.1676 - val_acc: 0.4681\n",
            "Epoch 18/100\n",
            "\n",
            "Epoch 00018: val_loss improved from 1.12966 to 1.12092, saving model to /tmp/checkpoint.h5\n",
            "240/240 - 0s - loss: 0.8536 - acc: 0.7542 - val_loss: 1.1209 - val_acc: 0.5532\n",
            "Epoch 19/100\n",
            "\n",
            "Epoch 00019: val_loss improved from 1.12092 to 1.11653, saving model to /tmp/checkpoint.h5\n",
            "240/240 - 0s - loss: 0.8037 - acc: 0.7708 - val_loss: 1.1165 - val_acc: 0.4681\n",
            "Epoch 20/100\n",
            "\n",
            "Epoch 00020: val_loss improved from 1.11653 to 1.05155, saving model to /tmp/checkpoint.h5\n",
            "240/240 - 0s - loss: 0.7583 - acc: 0.7958 - val_loss: 1.0515 - val_acc: 0.5745\n",
            "Epoch 21/100\n",
            "\n",
            "Epoch 00021: val_loss did not improve from 1.05155\n",
            "240/240 - 0s - loss: 0.7990 - acc: 0.7625 - val_loss: 1.1690 - val_acc: 0.4043\n",
            "Epoch 22/100\n",
            "\n",
            "Epoch 00022: val_loss improved from 1.05155 to 0.97201, saving model to /tmp/checkpoint.h5\n",
            "240/240 - 0s - loss: 0.7677 - acc: 0.7667 - val_loss: 0.9720 - val_acc: 0.5957\n",
            "Epoch 23/100\n",
            "\n",
            "Epoch 00023: val_loss did not improve from 0.97201\n",
            "240/240 - 0s - loss: 0.7461 - acc: 0.8000 - val_loss: 1.0000 - val_acc: 0.5745\n",
            "Epoch 24/100\n",
            "\n",
            "Epoch 00024: val_loss did not improve from 0.97201\n",
            "240/240 - 0s - loss: 0.7419 - acc: 0.7708 - val_loss: 1.0119 - val_acc: 0.5957\n",
            "Epoch 25/100\n",
            "\n",
            "Epoch 00025: val_loss did not improve from 0.97201\n",
            "240/240 - 0s - loss: 0.6933 - acc: 0.8083 - val_loss: 0.9733 - val_acc: 0.5532\n",
            "Epoch 26/100\n",
            "\n",
            "Epoch 00026: val_loss improved from 0.97201 to 0.91594, saving model to /tmp/checkpoint.h5\n",
            "240/240 - 0s - loss: 0.7066 - acc: 0.8000 - val_loss: 0.9159 - val_acc: 0.6383\n",
            "Epoch 27/100\n",
            "\n",
            "Epoch 00027: val_loss improved from 0.91594 to 0.88128, saving model to /tmp/checkpoint.h5\n",
            "240/240 - 0s - loss: 0.6988 - acc: 0.8250 - val_loss: 0.8813 - val_acc: 0.6596\n",
            "Epoch 28/100\n",
            "\n",
            "Epoch 00028: val_loss did not improve from 0.88128\n",
            "240/240 - 0s - loss: 0.6823 - acc: 0.7875 - val_loss: 0.9316 - val_acc: 0.5957\n",
            "Epoch 29/100\n",
            "\n",
            "Epoch 00029: val_loss improved from 0.88128 to 0.85330, saving model to /tmp/checkpoint.h5\n",
            "240/240 - 0s - loss: 0.6680 - acc: 0.8167 - val_loss: 0.8533 - val_acc: 0.5745\n",
            "Epoch 30/100\n",
            "\n",
            "Epoch 00030: val_loss improved from 0.85330 to 0.84588, saving model to /tmp/checkpoint.h5\n",
            "240/240 - 0s - loss: 0.6750 - acc: 0.8125 - val_loss: 0.8459 - val_acc: 0.7021\n",
            "Epoch 31/100\n",
            "\n",
            "Epoch 00031: val_loss improved from 0.84588 to 0.83937, saving model to /tmp/checkpoint.h5\n",
            "240/240 - 0s - loss: 0.6464 - acc: 0.8583 - val_loss: 0.8394 - val_acc: 0.6383\n",
            "Epoch 32/100\n",
            "\n",
            "Epoch 00032: val_loss improved from 0.83937 to 0.83834, saving model to /tmp/checkpoint.h5\n",
            "240/240 - 0s - loss: 0.6416 - acc: 0.8375 - val_loss: 0.8383 - val_acc: 0.7021\n",
            "Epoch 33/100\n",
            "\n",
            "Epoch 00033: val_loss improved from 0.83834 to 0.77556, saving model to /tmp/checkpoint.h5\n",
            "240/240 - 0s - loss: 0.6395 - acc: 0.8417 - val_loss: 0.7756 - val_acc: 0.7660\n",
            "Epoch 34/100\n",
            "\n",
            "Epoch 00034: val_loss did not improve from 0.77556\n",
            "240/240 - 0s - loss: 0.6440 - acc: 0.8500 - val_loss: 0.8012 - val_acc: 0.6596\n",
            "Epoch 35/100\n",
            "\n",
            "Epoch 00035: val_loss did not improve from 0.77556\n",
            "240/240 - 0s - loss: 0.6074 - acc: 0.8542 - val_loss: 0.8146 - val_acc: 0.6596\n",
            "Epoch 36/100\n",
            "\n",
            "Epoch 00036: val_loss did not improve from 0.77556\n",
            "240/240 - 0s - loss: 0.6069 - acc: 0.8667 - val_loss: 0.7811 - val_acc: 0.7021\n",
            "Epoch 37/100\n",
            "\n",
            "Epoch 00037: val_loss did not improve from 0.77556\n",
            "240/240 - 0s - loss: 0.5916 - acc: 0.8625 - val_loss: 0.8730 - val_acc: 0.6596\n",
            "Epoch 38/100\n",
            "\n",
            "Epoch 00038: val_loss did not improve from 0.77556\n",
            "240/240 - 0s - loss: 0.5937 - acc: 0.8708 - val_loss: 0.8015 - val_acc: 0.6596\n",
            "Epoch 39/100\n",
            "\n",
            "Epoch 00039: val_loss did not improve from 0.77556\n",
            "240/240 - 0s - loss: 0.6100 - acc: 0.8542 - val_loss: 0.8307 - val_acc: 0.6596\n",
            "Epoch 40/100\n",
            "\n",
            "Epoch 00040: val_loss did not improve from 0.77556\n",
            "240/240 - 0s - loss: 0.5796 - acc: 0.8500 - val_loss: 0.8026 - val_acc: 0.7234\n",
            "Epoch 41/100\n",
            "\n",
            "Epoch 00041: val_loss did not improve from 0.77556\n",
            "240/240 - 0s - loss: 0.6054 - acc: 0.8333 - val_loss: 0.8039 - val_acc: 0.6809\n",
            "Epoch 42/100\n",
            "\n",
            "Epoch 00042: val_loss did not improve from 0.77556\n",
            "240/240 - 0s - loss: 0.5731 - acc: 0.8625 - val_loss: 0.8273 - val_acc: 0.6170\n",
            "Epoch 43/100\n",
            "\n",
            "Epoch 00043: val_loss improved from 0.77556 to 0.75434, saving model to /tmp/checkpoint.h5\n",
            "240/240 - 0s - loss: 0.5616 - acc: 0.8667 - val_loss: 0.7543 - val_acc: 0.7872\n",
            "Epoch 44/100\n",
            "\n",
            "Epoch 00044: val_loss did not improve from 0.75434\n",
            "240/240 - 0s - loss: 0.5640 - acc: 0.8917 - val_loss: 0.8469 - val_acc: 0.6596\n",
            "Epoch 45/100\n",
            "\n",
            "Epoch 00045: val_loss improved from 0.75434 to 0.72081, saving model to /tmp/checkpoint.h5\n",
            "240/240 - 0s - loss: 0.5699 - acc: 0.8500 - val_loss: 0.7208 - val_acc: 0.7872\n",
            "Epoch 46/100\n",
            "\n",
            "Epoch 00046: val_loss did not improve from 0.72081\n",
            "240/240 - 0s - loss: 0.5453 - acc: 0.8750 - val_loss: 0.8175 - val_acc: 0.6596\n",
            "Epoch 47/100\n",
            "\n",
            "Epoch 00047: val_loss did not improve from 0.72081\n",
            "240/240 - 0s - loss: 0.5268 - acc: 0.8958 - val_loss: 0.7976 - val_acc: 0.6809\n",
            "Epoch 48/100\n",
            "\n",
            "Epoch 00048: val_loss did not improve from 0.72081\n",
            "240/240 - 0s - loss: 0.5385 - acc: 0.8875 - val_loss: 0.8327 - val_acc: 0.7021\n",
            "Epoch 49/100\n",
            "\n",
            "Epoch 00049: val_loss did not improve from 0.72081\n",
            "240/240 - 0s - loss: 0.5420 - acc: 0.8875 - val_loss: 0.7746 - val_acc: 0.6596\n",
            "Epoch 50/100\n",
            "\n",
            "Epoch 00050: val_loss did not improve from 0.72081\n",
            "240/240 - 0s - loss: 0.5432 - acc: 0.9042 - val_loss: 0.8363 - val_acc: 0.6596\n",
            "Epoch 51/100\n",
            "\n",
            "Epoch 00051: val_loss did not improve from 0.72081\n",
            "240/240 - 0s - loss: 0.5287 - acc: 0.8875 - val_loss: 0.7509 - val_acc: 0.7234\n",
            "Epoch 52/100\n",
            "\n",
            "Epoch 00052: val_loss did not improve from 0.72081\n",
            "240/240 - 0s - loss: 0.5339 - acc: 0.9083 - val_loss: 0.8216 - val_acc: 0.6596\n",
            "Epoch 53/100\n",
            "\n",
            "Epoch 00053: val_loss did not improve from 0.72081\n",
            "240/240 - 0s - loss: 0.5335 - acc: 0.8542 - val_loss: 0.8395 - val_acc: 0.6383\n",
            "Epoch 54/100\n",
            "\n",
            "Epoch 00054: val_loss did not improve from 0.72081\n",
            "240/240 - 0s - loss: 0.5390 - acc: 0.8958 - val_loss: 0.8183 - val_acc: 0.6596\n",
            "Epoch 55/100\n",
            "\n",
            "Epoch 00055: val_loss did not improve from 0.72081\n",
            "240/240 - 0s - loss: 0.5349 - acc: 0.8958 - val_loss: 0.8162 - val_acc: 0.6596\n",
            "Epoch 56/100\n",
            "\n",
            "Epoch 00056: val_loss did not improve from 0.72081\n",
            "240/240 - 0s - loss: 0.5271 - acc: 0.8958 - val_loss: 0.7730 - val_acc: 0.7021\n",
            "Epoch 57/100\n",
            "\n",
            "Epoch 00057: val_loss did not improve from 0.72081\n",
            "240/240 - 0s - loss: 0.5050 - acc: 0.9042 - val_loss: 0.8359 - val_acc: 0.6809\n",
            "Epoch 58/100\n",
            "\n",
            "Epoch 00058: val_loss did not improve from 0.72081\n",
            "240/240 - 0s - loss: 0.4953 - acc: 0.9042 - val_loss: 0.7712 - val_acc: 0.6809\n",
            "Epoch 59/100\n",
            "\n",
            "Epoch 00059: val_loss did not improve from 0.72081\n",
            "240/240 - 0s - loss: 0.5058 - acc: 0.9083 - val_loss: 0.7573 - val_acc: 0.7021\n",
            "Epoch 60/100\n",
            "\n",
            "Epoch 00060: val_loss did not improve from 0.72081\n",
            "240/240 - 0s - loss: 0.4990 - acc: 0.8917 - val_loss: 0.7880 - val_acc: 0.7234\n",
            "Epoch 61/100\n",
            "\n",
            "Epoch 00061: val_loss did not improve from 0.72081\n",
            "240/240 - 0s - loss: 0.4798 - acc: 0.9208 - val_loss: 0.7975 - val_acc: 0.6596\n",
            "Epoch 62/100\n",
            "\n",
            "Epoch 00062: val_loss did not improve from 0.72081\n",
            "240/240 - 0s - loss: 0.5064 - acc: 0.9042 - val_loss: 0.7978 - val_acc: 0.7021\n",
            "Epoch 63/100\n",
            "\n",
            "Epoch 00063: val_loss did not improve from 0.72081\n",
            "240/240 - 0s - loss: 0.4837 - acc: 0.9333 - val_loss: 0.8472 - val_acc: 0.6170\n",
            "Epoch 64/100\n",
            "\n",
            "Epoch 00064: val_loss did not improve from 0.72081\n",
            "240/240 - 0s - loss: 0.4954 - acc: 0.9042 - val_loss: 0.7439 - val_acc: 0.7234\n",
            "Epoch 65/100\n",
            "\n",
            "Epoch 00065: val_loss did not improve from 0.72081\n",
            "240/240 - 0s - loss: 0.4875 - acc: 0.9083 - val_loss: 0.8172 - val_acc: 0.6383\n",
            "Epoch 66/100\n",
            "\n",
            "Epoch 00066: val_loss did not improve from 0.72081\n",
            "240/240 - 0s - loss: 0.4996 - acc: 0.8958 - val_loss: 0.8278 - val_acc: 0.6809\n",
            "Epoch 67/100\n",
            "\n",
            "Epoch 00067: val_loss did not improve from 0.72081\n",
            "240/240 - 0s - loss: 0.4632 - acc: 0.9250 - val_loss: 0.7764 - val_acc: 0.7021\n",
            "Epoch 68/100\n",
            "\n",
            "Epoch 00068: val_loss did not improve from 0.72081\n",
            "240/240 - 0s - loss: 0.4573 - acc: 0.9250 - val_loss: 0.7517 - val_acc: 0.6809\n",
            "Epoch 69/100\n",
            "\n",
            "Epoch 00069: val_loss did not improve from 0.72081\n",
            "240/240 - 0s - loss: 0.5044 - acc: 0.9167 - val_loss: 0.8295 - val_acc: 0.6809\n",
            "Epoch 70/100\n",
            "\n",
            "Epoch 00070: val_loss did not improve from 0.72081\n",
            "240/240 - 0s - loss: 0.4629 - acc: 0.9292 - val_loss: 0.7656 - val_acc: 0.6809\n",
            "Epoch 71/100\n",
            "\n",
            "Epoch 00071: val_loss did not improve from 0.72081\n",
            "240/240 - 0s - loss: 0.4783 - acc: 0.9208 - val_loss: 0.8252 - val_acc: 0.6809\n",
            "Epoch 72/100\n",
            "\n",
            "Epoch 00072: val_loss did not improve from 0.72081\n",
            "240/240 - 0s - loss: 0.4650 - acc: 0.9333 - val_loss: 0.7927 - val_acc: 0.7234\n",
            "Epoch 73/100\n",
            "\n",
            "Epoch 00073: val_loss did not improve from 0.72081\n",
            "240/240 - 0s - loss: 0.4508 - acc: 0.9250 - val_loss: 0.8321 - val_acc: 0.6809\n",
            "Epoch 74/100\n",
            "\n",
            "Epoch 00074: val_loss did not improve from 0.72081\n",
            "240/240 - 0s - loss: 0.4368 - acc: 0.9458 - val_loss: 0.7671 - val_acc: 0.7021\n",
            "Epoch 75/100\n",
            "\n",
            "Epoch 00075: val_loss did not improve from 0.72081\n",
            "240/240 - 0s - loss: 0.4406 - acc: 0.9417 - val_loss: 0.8016 - val_acc: 0.7234\n",
            "Epoch 76/100\n",
            "\n",
            "Epoch 00076: val_loss did not improve from 0.72081\n",
            "240/240 - 0s - loss: 0.4559 - acc: 0.9333 - val_loss: 0.8537 - val_acc: 0.7021\n",
            "Epoch 77/100\n",
            "\n",
            "Epoch 00077: val_loss did not improve from 0.72081\n",
            "240/240 - 0s - loss: 0.4442 - acc: 0.9417 - val_loss: 0.7740 - val_acc: 0.6809\n",
            "Epoch 78/100\n",
            "\n",
            "Epoch 00078: val_loss did not improve from 0.72081\n",
            "240/240 - 0s - loss: 0.4354 - acc: 0.9500 - val_loss: 0.7582 - val_acc: 0.7234\n",
            "Epoch 79/100\n",
            "\n",
            "Epoch 00079: val_loss did not improve from 0.72081\n",
            "240/240 - 0s - loss: 0.4420 - acc: 0.9458 - val_loss: 0.7879 - val_acc: 0.6170\n",
            "Epoch 80/100\n",
            "\n",
            "Epoch 00080: val_loss did not improve from 0.72081\n",
            "240/240 - 0s - loss: 0.4710 - acc: 0.9250 - val_loss: 0.7675 - val_acc: 0.7021\n",
            "Epoch 81/100\n",
            "\n",
            "Epoch 00081: val_loss did not improve from 0.72081\n",
            "240/240 - 0s - loss: 0.4347 - acc: 0.9417 - val_loss: 0.7456 - val_acc: 0.6809\n",
            "Epoch 82/100\n",
            "\n",
            "Epoch 00082: val_loss did not improve from 0.72081\n",
            "240/240 - 0s - loss: 0.4426 - acc: 0.9333 - val_loss: 0.7776 - val_acc: 0.7021\n",
            "Epoch 83/100\n",
            "\n",
            "Epoch 00083: val_loss did not improve from 0.72081\n",
            "240/240 - 0s - loss: 0.4597 - acc: 0.9417 - val_loss: 0.8445 - val_acc: 0.6596\n",
            "Epoch 84/100\n",
            "\n",
            "Epoch 00084: val_loss did not improve from 0.72081\n",
            "240/240 - 0s - loss: 0.4404 - acc: 0.9417 - val_loss: 0.7295 - val_acc: 0.7021\n",
            "Epoch 85/100\n",
            "\n",
            "Epoch 00085: val_loss improved from 0.72081 to 0.72074, saving model to /tmp/checkpoint.h5\n",
            "240/240 - 0s - loss: 0.4468 - acc: 0.9292 - val_loss: 0.7207 - val_acc: 0.7021\n",
            "Epoch 86/100\n",
            "\n",
            "Epoch 00086: val_loss did not improve from 0.72074\n",
            "240/240 - 0s - loss: 0.4498 - acc: 0.9250 - val_loss: 0.7770 - val_acc: 0.6596\n",
            "Epoch 87/100\n",
            "\n",
            "Epoch 00087: val_loss did not improve from 0.72074\n",
            "240/240 - 0s - loss: 0.4171 - acc: 0.9458 - val_loss: 0.7795 - val_acc: 0.7021\n",
            "Epoch 88/100\n",
            "\n",
            "Epoch 00088: val_loss did not improve from 0.72074\n",
            "240/240 - 0s - loss: 0.4077 - acc: 0.9583 - val_loss: 0.7931 - val_acc: 0.6809\n",
            "Epoch 89/100\n",
            "\n",
            "Epoch 00089: val_loss did not improve from 0.72074\n",
            "240/240 - 0s - loss: 0.4342 - acc: 0.9375 - val_loss: 0.7695 - val_acc: 0.6596\n",
            "Epoch 90/100\n",
            "\n",
            "Epoch 00090: val_loss did not improve from 0.72074\n",
            "240/240 - 0s - loss: 0.4350 - acc: 0.9333 - val_loss: 0.8027 - val_acc: 0.6596\n",
            "Epoch 91/100\n",
            "\n",
            "Epoch 00091: val_loss did not improve from 0.72074\n",
            "240/240 - 0s - loss: 0.4195 - acc: 0.9458 - val_loss: 0.7285 - val_acc: 0.7447\n",
            "Epoch 92/100\n",
            "\n",
            "Epoch 00092: val_loss did not improve from 0.72074\n",
            "240/240 - 0s - loss: 0.4460 - acc: 0.9292 - val_loss: 0.7773 - val_acc: 0.6596\n",
            "Epoch 93/100\n",
            "\n",
            "Epoch 00093: val_loss did not improve from 0.72074\n",
            "240/240 - 0s - loss: 0.4367 - acc: 0.9333 - val_loss: 0.7488 - val_acc: 0.6809\n",
            "Epoch 94/100\n",
            "\n",
            "Epoch 00094: val_loss did not improve from 0.72074\n",
            "240/240 - 0s - loss: 0.4657 - acc: 0.9458 - val_loss: 0.8086 - val_acc: 0.6809\n",
            "Epoch 95/100\n",
            "\n",
            "Epoch 00095: val_loss did not improve from 0.72074\n",
            "240/240 - 0s - loss: 0.4300 - acc: 0.9458 - val_loss: 0.7772 - val_acc: 0.6170\n",
            "Epoch 96/100\n",
            "\n",
            "Epoch 00096: val_loss did not improve from 0.72074\n",
            "240/240 - 0s - loss: 0.4315 - acc: 0.9500 - val_loss: 0.8036 - val_acc: 0.6809\n",
            "Epoch 97/100\n",
            "\n",
            "Epoch 00097: val_loss did not improve from 0.72074\n",
            "240/240 - 0s - loss: 0.4513 - acc: 0.9333 - val_loss: 0.7476 - val_acc: 0.6809\n",
            "Epoch 98/100\n",
            "\n",
            "Epoch 00098: val_loss did not improve from 0.72074\n",
            "240/240 - 0s - loss: 0.4095 - acc: 0.9542 - val_loss: 0.7453 - val_acc: 0.7021\n",
            "Epoch 99/100\n",
            "\n",
            "Epoch 00099: val_loss did not improve from 0.72074\n",
            "240/240 - 0s - loss: 0.4149 - acc: 0.9333 - val_loss: 0.7312 - val_acc: 0.7234\n",
            "Epoch 100/100\n",
            "\n",
            "Epoch 00100: val_loss did not improve from 0.72074\n",
            "240/240 - 0s - loss: 0.4249 - acc: 0.9583 - val_loss: 0.7591 - val_acc: 0.7021\n"
          ],
          "name": "stdout"
        }
      ]
    },
    {
      "cell_type": "code",
      "metadata": {
        "id": "f4aC5kY7lhys",
        "colab_type": "code",
        "outputId": "6c8ea75c-04ec-4ef2-83dd-ec92dd980381",
        "colab": {
          "base_uri": "https://localhost:8080/",
          "height": 295
        }
      },
      "source": [
        "# Plot training & validation accuracy values\n",
        "plt.plot(history.history['acc'])\n",
        "plt.plot(history.history['val_acc'])\n",
        "plt.title('Model accuracy')\n",
        "plt.ylabel('Accuracy')\n",
        "plt.xlabel('Epoch')\n",
        "plt.legend(['Train', 'Test'], loc='upper left')\n",
        "plt.show()"
      ],
      "execution_count": 0,
      "outputs": [
        {
          "output_type": "display_data",
          "data": {
            "image/png": "[encoded data removed]",
            "text/plain": [
              "<Figure size 432x288 with 1 Axes>"
            ]
          },
          "metadata": {
            "tags": []
          }
        }
      ]
    },
    {
      "cell_type": "code",
      "metadata": {
        "id": "0P8YE0iV2XwS",
        "colab_type": "code",
        "colab": {}
      },
      "source": [
        "ynew = model.predict(X_test)"
      ],
      "execution_count": 0,
      "outputs": []
    },
    {
      "cell_type": "code",
      "metadata": {
        "id": "EfAoIy2p3lWB",
        "colab_type": "code",
        "outputId": "5c8f6d0f-13ac-46f5-d725-b46073fbbea1",
        "colab": {
          "base_uri": "https://localhost:8080/",
          "height": 90
        }
      },
      "source": [
        "# Evaluate the model on the test data using `evaluate`\n",
        "print('\\n# Evaluate on test data')\n",
        "results = model.evaluate(X_test, Y_test, batch_size=1)\n",
        "print('test loss, test acc:', results)"
      ],
      "execution_count": 0,
      "outputs": [
        {
          "output_type": "stream",
          "text": [
            "\n",
            "# Evaluate on test data\n",
            "288/288 [==============================] - 1s 3ms/sample - loss: 0.7663 - acc: 0.7222\n",
            "test loss, test acc: [0.7663404682858123, 0.7222222]\n"
          ],
          "name": "stdout"
        }
      ]
    }
  ]
}